{
 "cells": [
  {
   "cell_type": "code",
   "execution_count": 39,
   "metadata": {},
   "outputs": [],
   "source": [
    "import igraph as ig\n",
    "import numpy as np\n",
    "from random import randint\n",
    "import random\n",
    "import matplotlib.pyplot as plt\n",
    "\n",
    "random.seed(0)"
   ]
  },
  {
   "cell_type": "code",
   "execution_count": 2,
   "metadata": {},
   "outputs": [],
   "source": [
    "g1 = ig.Graph.Barabasi(n=900, m=4, directed=True)\n",
    "g2 = ig.Graph.Barabasi(n=900, m=4, directed=True)\n",
    "\n",
    "# Merge the two networks by adding the edges of the second graph to the first graph\n",
    "n2 = g2.vcount()\n",
    "g2.permute_vertices(np.random.permutation(n2).tolist())\n",
    "g1.add_edges(g2.get_edgelist())"
   ]
  },
  {
   "cell_type": "code",
   "execution_count": 53,
   "metadata": {},
   "outputs": [
    {
     "data": {
      "text/plain": [
       "Text(0, 0.5, 'Probability of being visited')"
      ]
     },
     "execution_count": 53,
     "metadata": {},
     "output_type": "execute_result"
    },
    {
     "data": {
      "image/png": "[encoded data removed]",
      "text/plain": [
       "<Figure size 640x480 with 1 Axes>"
      ]
     },
     "metadata": {},
     "output_type": "display_data"
    }
   ],
   "source": [
    "n_iter = 1000\n",
    "visited_node_counts = np.zeros(g1.vcount(), dtype=int)\n",
    "\n",
    "for _ in range(n_iter):\n",
    "    node = randint(0, g1.vcount()-1)\n",
    "\n",
    "    visited_node_counts[node]  += 1\n",
    "    neighbours = g1.neighbors(node, mode=ig.OUT)\n",
    "\n",
    "    while len(neighbours):\n",
    "        node = random.choice(neighbours)\n",
    "        visited_node_counts[node] += 1\n",
    "        neighbours = g1.neighbors(node, mode=ig.OUT)\n",
    "\n",
    "visited_node_counts = visited_node_counts/n_iter\n",
    "plt.bar(range(g1.vcount()), visited_node_counts)\n",
    "plt.xlabel('Node')\n",
    "plt.ylabel('Probability of being visited')"
   ]
  },
  {
   "cell_type": "code",
   "execution_count": 48,
   "metadata": {},
   "outputs": [
    {
     "data": {
      "text/plain": [
       "array([1.   , 0.461, 0.355, 0.217, 0.079, 0.105, 0.03 , 0.1  , 0.063,\n",
       "       0.013, 0.057, 0.047, 0.023, 0.015, 0.062, 0.031, 0.009, 0.04 ,\n",
       "       0.023, 0.002, 0.002, 0.013, 0.009, 0.004, 0.011, 0.008, 0.021,\n",
       "       0.005, 0.005, 0.017, 0.008, 0.013, 0.   , 0.005, 0.01 , 0.002,\n",
       "       0.004, 0.013, 0.014, 0.003, 0.007, 0.009, 0.007, 0.004, 0.011,\n",
       "       0.001, 0.02 , 0.002, 0.001, 0.005, 0.002, 0.001, 0.008, 0.004,\n",
       "       0.005, 0.005, 0.004, 0.006, 0.001, 0.007, 0.003, 0.002, 0.005,\n",
       "       0.005, 0.011, 0.001, 0.011, 0.005, 0.003, 0.004, 0.017, 0.005,\n",
       "       0.002, 0.004, 0.004, 0.002, 0.004, 0.   , 0.005, 0.001, 0.005,\n",
       "       0.006, 0.003, 0.007, 0.003, 0.007, 0.001, 0.01 , 0.007, 0.006,\n",
       "       0.012, 0.004, 0.005, 0.007, 0.001, 0.   , 0.001, 0.006, 0.   ,\n",
       "       0.   , 0.002, 0.003, 0.003, 0.   , 0.001, 0.   , 0.004, 0.001,\n",
       "       0.003, 0.   , 0.001, 0.003, 0.001, 0.002, 0.001, 0.004, 0.005,\n",
       "       0.   , 0.002, 0.002, 0.002, 0.002, 0.003, 0.   , 0.006, 0.004,\n",
       "       0.002, 0.   , 0.005, 0.004, 0.   , 0.   , 0.005, 0.002, 0.002,\n",
       "       0.003, 0.003, 0.   , 0.004, 0.003, 0.001, 0.003, 0.004, 0.002,\n",
       "       0.002, 0.001, 0.005, 0.   , 0.001, 0.002, 0.001, 0.002, 0.001,\n",
       "       0.002, 0.002, 0.001, 0.002, 0.003, 0.001, 0.   , 0.005, 0.002,\n",
       "       0.001, 0.009, 0.003, 0.002, 0.001, 0.001, 0.002, 0.005, 0.004,\n",
       "       0.001, 0.001, 0.   , 0.001, 0.001, 0.   , 0.002, 0.001, 0.   ,\n",
       "       0.005, 0.002, 0.   , 0.001, 0.002, 0.001, 0.004, 0.004, 0.002,\n",
       "       0.001, 0.001, 0.003, 0.001, 0.003, 0.001, 0.003, 0.003, 0.005,\n",
       "       0.002, 0.   , 0.001, 0.001, 0.002, 0.003, 0.   , 0.002, 0.   ,\n",
       "       0.001, 0.001, 0.003, 0.001, 0.002, 0.   , 0.006, 0.   , 0.003,\n",
       "       0.001, 0.001, 0.004, 0.001, 0.005, 0.001, 0.   , 0.001, 0.001,\n",
       "       0.001, 0.   , 0.003, 0.002, 0.002, 0.   , 0.003, 0.002, 0.001,\n",
       "       0.001, 0.001, 0.003, 0.   , 0.002, 0.   , 0.004, 0.001, 0.002,\n",
       "       0.003, 0.002, 0.001, 0.   , 0.003, 0.001, 0.   , 0.001, 0.001,\n",
       "       0.002, 0.001, 0.   , 0.002, 0.003, 0.002, 0.   , 0.001, 0.001,\n",
       "       0.001, 0.   , 0.001, 0.002, 0.002, 0.004, 0.002, 0.   , 0.   ,\n",
       "       0.002, 0.003, 0.006, 0.   , 0.003, 0.001, 0.002, 0.   , 0.003,\n",
       "       0.002, 0.003, 0.001, 0.003, 0.001, 0.004, 0.003, 0.001, 0.002,\n",
       "       0.   , 0.003, 0.002, 0.003, 0.   , 0.   , 0.001, 0.002, 0.   ,\n",
       "       0.004, 0.002, 0.002, 0.001, 0.002, 0.002, 0.002, 0.001, 0.002,\n",
       "       0.003, 0.   , 0.001, 0.   , 0.003, 0.001, 0.001, 0.002, 0.   ,\n",
       "       0.001, 0.001, 0.   , 0.001, 0.001, 0.   , 0.002, 0.002, 0.   ,\n",
       "       0.001, 0.   , 0.002, 0.001, 0.001, 0.   , 0.   , 0.001, 0.   ,\n",
       "       0.003, 0.001, 0.003, 0.006, 0.002, 0.002, 0.003, 0.001, 0.001,\n",
       "       0.   , 0.005, 0.001, 0.001, 0.001, 0.001, 0.002, 0.003, 0.002,\n",
       "       0.001, 0.006, 0.003, 0.002, 0.002, 0.   , 0.001, 0.   , 0.003,\n",
       "       0.002, 0.   , 0.003, 0.   , 0.001, 0.004, 0.001, 0.001, 0.003,\n",
       "       0.004, 0.002, 0.001, 0.001, 0.001, 0.   , 0.002, 0.001, 0.002,\n",
       "       0.001, 0.001, 0.001, 0.004, 0.   , 0.   , 0.002, 0.   , 0.   ,\n",
       "       0.003, 0.003, 0.002, 0.002, 0.   , 0.001, 0.   , 0.003, 0.   ,\n",
       "       0.   , 0.001, 0.002, 0.002, 0.001, 0.002, 0.003, 0.001, 0.   ,\n",
       "       0.002, 0.   , 0.001, 0.003, 0.005, 0.002, 0.001, 0.001, 0.004,\n",
       "       0.002, 0.002, 0.002, 0.001, 0.001, 0.003, 0.   , 0.001, 0.004,\n",
       "       0.   , 0.   , 0.001, 0.001, 0.003, 0.002, 0.002, 0.   , 0.002,\n",
       "       0.001, 0.002, 0.002, 0.   , 0.002, 0.   , 0.002, 0.001, 0.001,\n",
       "       0.001, 0.   , 0.003, 0.   , 0.001, 0.002, 0.001, 0.002, 0.003,\n",
       "       0.003, 0.001, 0.   , 0.002, 0.001, 0.   , 0.   , 0.002, 0.002,\n",
       "       0.   , 0.002, 0.   , 0.002, 0.001, 0.002, 0.   , 0.001, 0.002,\n",
       "       0.   , 0.   , 0.002, 0.   , 0.   , 0.   , 0.002, 0.002, 0.001,\n",
       "       0.   , 0.001, 0.004, 0.002, 0.003, 0.001, 0.001, 0.   , 0.   ,\n",
       "       0.001, 0.   , 0.002, 0.002, 0.002, 0.002, 0.004, 0.002, 0.002,\n",
       "       0.001, 0.002, 0.001, 0.001, 0.002, 0.001, 0.002, 0.   , 0.001,\n",
       "       0.005, 0.001, 0.001, 0.   , 0.001, 0.   , 0.001, 0.002, 0.   ,\n",
       "       0.004, 0.   , 0.001, 0.   , 0.001, 0.   , 0.002, 0.003, 0.001,\n",
       "       0.003, 0.001, 0.   , 0.   , 0.   , 0.   , 0.002, 0.003, 0.   ,\n",
       "       0.001, 0.001, 0.   , 0.001, 0.002, 0.   , 0.001, 0.002, 0.002,\n",
       "       0.004, 0.   , 0.001, 0.001, 0.001, 0.001, 0.001, 0.001, 0.   ,\n",
       "       0.001, 0.002, 0.   , 0.001, 0.001, 0.001, 0.002, 0.001, 0.001,\n",
       "       0.001, 0.001, 0.004, 0.001, 0.   , 0.   , 0.   , 0.   , 0.002,\n",
       "       0.003, 0.001, 0.001, 0.001, 0.003, 0.002, 0.001, 0.   , 0.001,\n",
       "       0.001, 0.002, 0.003, 0.002, 0.002, 0.002, 0.001, 0.001, 0.003,\n",
       "       0.   , 0.001, 0.   , 0.001, 0.001, 0.   , 0.   , 0.001, 0.002,\n",
       "       0.002, 0.001, 0.003, 0.   , 0.   , 0.   , 0.001, 0.002, 0.001,\n",
       "       0.001, 0.001, 0.002, 0.001, 0.003, 0.   , 0.001, 0.003, 0.   ,\n",
       "       0.   , 0.001, 0.001, 0.   , 0.   , 0.   , 0.   , 0.   , 0.   ,\n",
       "       0.001, 0.   , 0.   , 0.002, 0.001, 0.   , 0.002, 0.003, 0.001,\n",
       "       0.   , 0.001, 0.001, 0.002, 0.   , 0.   , 0.002, 0.001, 0.   ,\n",
       "       0.   , 0.   , 0.004, 0.002, 0.002, 0.001, 0.001, 0.001, 0.001,\n",
       "       0.   , 0.003, 0.002, 0.001, 0.   , 0.001, 0.   , 0.   , 0.002,\n",
       "       0.001, 0.001, 0.002, 0.   , 0.001, 0.   , 0.   , 0.001, 0.001,\n",
       "       0.   , 0.   , 0.   , 0.002, 0.002, 0.001, 0.   , 0.001, 0.   ,\n",
       "       0.   , 0.003, 0.001, 0.   , 0.002, 0.   , 0.002, 0.   , 0.001,\n",
       "       0.002, 0.001, 0.003, 0.001, 0.001, 0.001, 0.003, 0.   , 0.001,\n",
       "       0.002, 0.002, 0.   , 0.002, 0.   , 0.001, 0.   , 0.001, 0.001,\n",
       "       0.003, 0.   , 0.   , 0.   , 0.001, 0.002, 0.001, 0.001, 0.001,\n",
       "       0.001, 0.001, 0.   , 0.002, 0.   , 0.003, 0.002, 0.002, 0.   ,\n",
       "       0.001, 0.   , 0.002, 0.003, 0.002, 0.   , 0.002, 0.002, 0.   ,\n",
       "       0.001, 0.001, 0.002, 0.002, 0.   , 0.002, 0.003, 0.002, 0.005,\n",
       "       0.002, 0.003, 0.001, 0.001, 0.001, 0.002, 0.   , 0.003, 0.001,\n",
       "       0.001, 0.005, 0.   , 0.002, 0.001, 0.002, 0.001, 0.001, 0.   ,\n",
       "       0.004, 0.003, 0.   , 0.002, 0.001, 0.001, 0.002, 0.   , 0.002,\n",
       "       0.002, 0.001, 0.001, 0.   , 0.   , 0.001, 0.002, 0.002, 0.001,\n",
       "       0.001, 0.002, 0.   , 0.001, 0.   , 0.001, 0.001, 0.002, 0.   ,\n",
       "       0.   , 0.002, 0.   , 0.   , 0.001, 0.003, 0.002, 0.   , 0.001,\n",
       "       0.   , 0.   , 0.002, 0.001, 0.   , 0.   , 0.004, 0.001, 0.002,\n",
       "       0.003, 0.001, 0.   , 0.   , 0.001, 0.001, 0.   , 0.   , 0.   ,\n",
       "       0.   , 0.   , 0.001, 0.   , 0.003, 0.003, 0.001, 0.003, 0.001,\n",
       "       0.   , 0.001, 0.   , 0.   , 0.001, 0.002, 0.001, 0.   , 0.   ,\n",
       "       0.001, 0.002, 0.   , 0.001, 0.   , 0.   , 0.001, 0.002, 0.001,\n",
       "       0.   , 0.002, 0.002, 0.   , 0.001, 0.002, 0.001, 0.001, 0.   ,\n",
       "       0.001, 0.004, 0.   , 0.001, 0.002, 0.002, 0.   , 0.   , 0.   ,\n",
       "       0.001, 0.   , 0.   , 0.001, 0.001, 0.   , 0.   , 0.002, 0.004,\n",
       "       0.002, 0.   , 0.002, 0.   , 0.   , 0.004, 0.003, 0.003, 0.002,\n",
       "       0.001, 0.   , 0.001, 0.001, 0.002, 0.001, 0.   , 0.   , 0.001,\n",
       "       0.003, 0.001, 0.   , 0.002, 0.   , 0.   , 0.002, 0.002, 0.001,\n",
       "       0.003, 0.003, 0.   , 0.002, 0.   , 0.   , 0.001, 0.003, 0.001])"
      ]
     },
     "execution_count": 48,
     "metadata": {},
     "output_type": "execute_result"
    }
   ],
   "source": [
    "visited_node_counts"
   ]
  }
 ],
 "metadata": {
  "kernelspec": {
   "display_name": "232",
   "language": "python",
   "name": "python3"
  },
  "language_info": {
   "codemirror_mode": {
    "name": "ipython",
    "version": 3
   },
   "file_extension": ".py",
   "mimetype": "text/x-python",
   "name": "python",
   "nbconvert_exporter": "python",
   "pygments_lexer": "ipython3",
   "version": "3.9.16"
  },
  "orig_nbformat": 4
 },
 "nbformat": 4,
 "nbformat_minor": 2
}
