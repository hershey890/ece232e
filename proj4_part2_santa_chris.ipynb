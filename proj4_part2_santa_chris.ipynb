{
  "cells": [
    {
      "cell_type": "markdown",
      "metadata": {
        "id": "x_37oxeWquTf"
      },
      "source": [
        "# Solution"
      ]
    },
    {
      "cell_type": "code",
      "source": [
        "!pip install igraph"
      ],
      "metadata": {
        "colab": {
          "base_uri": "https://localhost:8080/"
        },
        "id": "SBufuVCHx1pz",
        "outputId": "975cde93-dae7-4ba7-9bc3-7d1dc71fefff"
      },
      "execution_count": 5,
      "outputs": [
        {
          "output_type": "stream",
          "name": "stdout",
          "text": [
            "Looking in indexes: https://pypi.org/simple, https://us-python.pkg.dev/colab-wheels/public/simple/\n",
            "Collecting igraph\n",
            "  Downloading igraph-0.10.4-cp39-abi3-manylinux_2_17_x86_64.manylinux2014_x86_64.whl (3.3 MB)\n",
            "\u001b[2K     \u001b[90m━━━━━━━━━━━━━━━━━━━━━━━━━━━━━━━━━━━━━━━━\u001b[0m \u001b[32m3.3/3.3 MB\u001b[0m \u001b[31m33.8 MB/s\u001b[0m eta \u001b[36m0:00:00\u001b[0m\n",
            "\u001b[?25hCollecting texttable>=1.6.2 (from igraph)\n",
            "  Downloading texttable-1.6.7-py2.py3-none-any.whl (10 kB)\n",
            "Installing collected packages: texttable, igraph\n",
            "Successfully installed igraph-0.10.4 texttable-1.6.7\n"
          ]
        }
      ]
    },
    {
      "cell_type": "code",
      "source": [
        "from google.colab import drive\n",
        "drive.mount('/content/drive')"
      ],
      "metadata": {
        "colab": {
          "base_uri": "https://localhost:8080/"
        },
        "id": "EVw8tU04x5OG",
        "outputId": "c7649bc8-397c-40f6-aeeb-875620689f78"
      },
      "execution_count": 6,
      "outputs": [
        {
          "output_type": "stream",
          "name": "stdout",
          "text": [
            "Mounted at /content/drive\n"
          ]
        }
      ]
    },
    {
      "cell_type": "code",
      "execution_count": 7,
      "metadata": {
        "id": "wXlAzCoZquTi"
      },
      "outputs": [],
      "source": [
        "from igraph import *\n",
        "import json\n",
        "import random\n",
        "import numpy as np\n",
        "from numpy import linalg \n",
        "import itertools\n",
        "import matplotlib.pyplot as plt\n",
        "from scipy.spatial import Delaunay  # needed for triangulation\n",
        "import os\n",
        "import pandas as pd\n",
        "from copy import deepcopy"
      ]
    },
    {
      "cell_type": "code",
      "execution_count": 8,
      "metadata": {
        "id": "0uG87w3EquTj"
      },
      "outputs": [],
      "source": [
        "random.seed(2022)\n",
        "np.random.seed(2022)"
      ]
    },
    {
      "cell_type": "code",
      "execution_count": 9,
      "metadata": {
        "id": "uuQ7vt74quTk"
      },
      "outputs": [],
      "source": [
        "file_geo = \"/content/drive/MyDrive/Colab Notebooks/232/Project 4/los_angeles_censustracts.json\"\n",
        "file_time = \"/content/drive/MyDrive/Colab Notebooks/232/Project 4/los_angeles-censustracts-2019-4-All-MonthlyAggregate.csv\"\n",
        "\n",
        "with open(file_geo) as f:\n",
        "    census_tracts = json.loads(f.readline())"
      ]
    },
    {
      "cell_type": "code",
      "execution_count": 10,
      "metadata": {
        "colab": {
          "base_uri": "https://localhost:8080/"
        },
        "id": "LufwfMDHquTl",
        "outputId": "ae6d72d9-bdcf-4acb-d5d9-cadf22268725"
      },
      "outputs": [
        {
          "output_type": "execute_result",
          "data": {
            "text/plain": [
              "{'MOVEMENT_ID': '1', 'TRACT': '480302', 'DISPLAY_NAME': 'Census Tract 480302'}"
            ]
          },
          "metadata": {},
          "execution_count": 10
        }
      ],
      "source": [
        "census_tracts['features'][0]['properties']"
      ]
    },
    {
      "cell_type": "code",
      "execution_count": 11,
      "metadata": {
        "colab": {
          "base_uri": "https://localhost:8080/"
        },
        "id": "rPN7S2iSquTm",
        "outputId": "9e418507-c42c-4505-e5c6-f6b9a277b9d5"
      },
      "outputs": [
        {
          "output_type": "execute_result",
          "data": {
            "text/plain": [
              "array([-118.12053321,   34.10309557])"
            ]
          },
          "metadata": {},
          "execution_count": 11
        }
      ],
      "source": [
        "np.array(census_tracts['features'][0]['geometry']['coordinates'][0]).mean(axis=0)  # [longitude, latitude]"
      ]
    },
    {
      "cell_type": "code",
      "execution_count": 12,
      "metadata": {
        "id": "AnhfT2nxquTn"
      },
      "outputs": [],
      "source": [
        "display_names = dict()\n",
        "coordinates = dict()\n",
        "\n",
        "for area in census_tracts['features']:\n",
        "    id = int(area['properties']['MOVEMENT_ID'])\n",
        "    display_name = area['properties']['DISPLAY_NAME']\n",
        "    display_names[id] = display_name\n",
        "    a = area['geometry']['coordinates'][0]\n",
        "    coordinates[id] = np.array(a if type(a[0][0]) == float else a[0]).mean(axis=0)"
      ]
    },
    {
      "cell_type": "code",
      "execution_count": 13,
      "metadata": {
        "colab": {
          "base_uri": "https://localhost:8080/"
        },
        "id": "CXdugE8cquTo",
        "outputId": "c7690b63-675e-4438-a177-050756314319"
      },
      "outputs": [
        {
          "output_type": "stream",
          "name": "stdout",
          "text": [
            "1: Census Tract 480302, [-118.12053321   34.10309557]\n",
            "2: Census Tract 480303, [-118.13785063   34.09645121]\n",
            "3: Census Tract 480304, [-118.13138209   34.09626386]\n",
            "4: Census Tract 480400, [-118.13224544   34.10349303]\n",
            "5: Census Tract 480500, [-118.14492317   34.0986815 ]\n"
          ]
        }
      ],
      "source": [
        "for i in range(5):\n",
        "    key = i + 1\n",
        "    print('{}: {}, {}'.format(key, display_names[key], coordinates[key]))"
      ]
    },
    {
      "cell_type": "code",
      "execution_count": 14,
      "metadata": {
        "id": "0Bb1hh99quTp"
      },
      "outputs": [],
      "source": [
        "g = Graph(directed=False)\n",
        "g.add_vertices(len(display_names))\n",
        "g.vs['display_name'] = list(display_names.values())  # index = id - 1\n",
        "g.vs['coordinates'] = list(coordinates.values())"
      ]
    },
    {
      "cell_type": "code",
      "execution_count": 15,
      "metadata": {
        "id": "SRF6KAbOquTq"
      },
      "outputs": [],
      "source": [
        "month_filter = {12}  # for monthly aggregate data of 4th quarter, we can filter data based off of only December\n",
        "\n",
        "edges = []\n",
        "weights = []\n",
        "\n",
        "with open(file_time) as f:\n",
        "    f.readline()  # skip the first line\n",
        "    \n",
        "    while True:\n",
        "        line = f.readline()\n",
        "        if line == '':\n",
        "            break  # end of file\n",
        "        \n",
        "        vals = line.strip().split(',')\n",
        "        \n",
        "        # read edge info\n",
        "        src, dest, month, dist = int(vals[0]), int(vals[1]), int(vals[2]), float(vals[3])\n",
        "\n",
        "        # if data is not relevant, skip it\n",
        "        if month not in month_filter:\n",
        "            continue\n",
        "            \n",
        "        edges.append((src - 1, dest - 1))\n",
        "        weights.append(dist)  "
      ]
    },
    {
      "cell_type": "code",
      "execution_count": 16,
      "metadata": {
        "id": "q7ugXlUCquTr"
      },
      "outputs": [],
      "source": [
        "g.add_edges(edges)\n",
        "g.es['weight'] = weights\n",
        "del edges, weights"
      ]
    },
    {
      "cell_type": "code",
      "execution_count": 17,
      "metadata": {
        "colab": {
          "base_uri": "https://localhost:8080/"
        },
        "id": "StwKK-k3quTs",
        "outputId": "71ce59c6-afd4-41d5-b310-15108a3cf2b5"
      },
      "outputs": [
        {
          "output_type": "stream",
          "name": "stdout",
          "text": [
            "2716 1692450\n"
          ]
        }
      ],
      "source": [
        "print(len(g.vs), len(g.es))"
      ]
    },
    {
      "cell_type": "code",
      "execution_count": 18,
      "metadata": {
        "id": "vXXoTEJrquTs"
      },
      "outputs": [],
      "source": [
        "# keep only the giant connected component\n",
        "components = g.components()\n",
        "gcc = max(components, key=len)\n",
        "vs_to_delete = [i for i in range(len(g.vs)) if i not in gcc]\n",
        "g.delete_vertices(vs_to_delete)\n",
        "\n",
        "# remove duplicate edges\n",
        "g = g.simplify(combine_edges=dict(weight='mean'))  # combine duplicate edges"
      ]
    },
    {
      "cell_type": "code",
      "execution_count": 19,
      "metadata": {
        "colab": {
          "base_uri": "https://localhost:8080/"
        },
        "id": "DtScffhPquTt",
        "outputId": "b95dc3bf-38cb-43ff-ced4-e03eabf4dfab"
      },
      "outputs": [
        {
          "output_type": "stream",
          "name": "stdout",
          "text": [
            "2649 1003858\n"
          ]
        }
      ],
      "source": [
        "print(len(g.vs), len(g.es))"
      ]
    },
    {
      "cell_type": "code",
      "execution_count": 20,
      "metadata": {
        "id": "b5L9vOyxquTt"
      },
      "outputs": [],
      "source": [
        "mst = g.spanning_tree(weights=g.es['weight'])"
      ]
    },
    {
      "cell_type": "code",
      "execution_count": 21,
      "metadata": {
        "colab": {
          "base_uri": "https://localhost:8080/",
          "height": 238
        },
        "id": "qjBksthXquTu",
        "outputId": "2863231d-2927-4c42-a729-197ba72b73bf"
      },
      "outputs": [
        {
          "output_type": "execute_result",
          "data": {
            "text/plain": [
              "         source  target   weight\n",
              "edge ID                         \n",
              "0             0       2  129.765\n",
              "1             0      13  118.335\n",
              "2             1       2   90.235\n",
              "3             1       3  126.475\n",
              "4             1       9  125.675"
            ],
            "text/html": [
              "\n",
              "  <div id=\"df-7c8d2494-0b05-40a3-b5d0-3b039873170c\">\n",
              "    <div class=\"colab-df-container\">\n",
              "      <div>\n",
              "<style scoped>\n",
              "    .dataframe tbody tr th:only-of-type {\n",
              "        vertical-align: middle;\n",
              "    }\n",
              "\n",
              "    .dataframe tbody tr th {\n",
              "        vertical-align: top;\n",
              "    }\n",
              "\n",
              "    .dataframe thead th {\n",
              "        text-align: right;\n",
              "    }\n",
              "</style>\n",
              "<table border=\"1\" class=\"dataframe\">\n",
              "  <thead>\n",
              "    <tr style=\"text-align: right;\">\n",
              "      <th></th>\n",
              "      <th>source</th>\n",
              "      <th>target</th>\n",
              "      <th>weight</th>\n",
              "    </tr>\n",
              "    <tr>\n",
              "      <th>edge ID</th>\n",
              "      <th></th>\n",
              "      <th></th>\n",
              "      <th></th>\n",
              "    </tr>\n",
              "  </thead>\n",
              "  <tbody>\n",
              "    <tr>\n",
              "      <th>0</th>\n",
              "      <td>0</td>\n",
              "      <td>2</td>\n",
              "      <td>129.765</td>\n",
              "    </tr>\n",
              "    <tr>\n",
              "      <th>1</th>\n",
              "      <td>0</td>\n",
              "      <td>13</td>\n",
              "      <td>118.335</td>\n",
              "    </tr>\n",
              "    <tr>\n",
              "      <th>2</th>\n",
              "      <td>1</td>\n",
              "      <td>2</td>\n",
              "      <td>90.235</td>\n",
              "    </tr>\n",
              "    <tr>\n",
              "      <th>3</th>\n",
              "      <td>1</td>\n",
              "      <td>3</td>\n",
              "      <td>126.475</td>\n",
              "    </tr>\n",
              "    <tr>\n",
              "      <th>4</th>\n",
              "      <td>1</td>\n",
              "      <td>9</td>\n",
              "      <td>125.675</td>\n",
              "    </tr>\n",
              "  </tbody>\n",
              "</table>\n",
              "</div>\n",
              "      <button class=\"colab-df-convert\" onclick=\"convertToInteractive('df-7c8d2494-0b05-40a3-b5d0-3b039873170c')\"\n",
              "              title=\"Convert this dataframe to an interactive table.\"\n",
              "              style=\"display:none;\">\n",
              "        \n",
              "  <svg xmlns=\"http://www.w3.org/2000/svg\" height=\"24px\"viewBox=\"0 0 24 24\"\n",
              "       width=\"24px\">\n",
              "    <path d=\"M0 0h24v24H0V0z\" fill=\"none\"/>\n",
              "    <path d=\"M18.56 5.44l.94 2.06.94-2.06 2.06-.94-2.06-.94-.94-2.06-.94 2.06-2.06.94zm-11 1L8.5 8.5l.94-2.06 2.06-.94-2.06-.94L8.5 2.5l-.94 2.06-2.06.94zm10 10l.94 2.06.94-2.06 2.06-.94-2.06-.94-.94-2.06-.94 2.06-2.06.94z\"/><path d=\"M17.41 7.96l-1.37-1.37c-.4-.4-.92-.59-1.43-.59-.52 0-1.04.2-1.43.59L10.3 9.45l-7.72 7.72c-.78.78-.78 2.05 0 2.83L4 21.41c.39.39.9.59 1.41.59.51 0 1.02-.2 1.41-.59l7.78-7.78 2.81-2.81c.8-.78.8-2.07 0-2.86zM5.41 20L4 18.59l7.72-7.72 1.47 1.35L5.41 20z\"/>\n",
              "  </svg>\n",
              "      </button>\n",
              "      \n",
              "  <style>\n",
              "    .colab-df-container {\n",
              "      display:flex;\n",
              "      flex-wrap:wrap;\n",
              "      gap: 12px;\n",
              "    }\n",
              "\n",
              "    .colab-df-convert {\n",
              "      background-color: #E8F0FE;\n",
              "      border: none;\n",
              "      border-radius: 50%;\n",
              "      cursor: pointer;\n",
              "      display: none;\n",
              "      fill: #1967D2;\n",
              "      height: 32px;\n",
              "      padding: 0 0 0 0;\n",
              "      width: 32px;\n",
              "    }\n",
              "\n",
              "    .colab-df-convert:hover {\n",
              "      background-color: #E2EBFA;\n",
              "      box-shadow: 0px 1px 2px rgba(60, 64, 67, 0.3), 0px 1px 3px 1px rgba(60, 64, 67, 0.15);\n",
              "      fill: #174EA6;\n",
              "    }\n",
              "\n",
              "    [theme=dark] .colab-df-convert {\n",
              "      background-color: #3B4455;\n",
              "      fill: #D2E3FC;\n",
              "    }\n",
              "\n",
              "    [theme=dark] .colab-df-convert:hover {\n",
              "      background-color: #434B5C;\n",
              "      box-shadow: 0px 1px 3px 1px rgba(0, 0, 0, 0.15);\n",
              "      filter: drop-shadow(0px 1px 2px rgba(0, 0, 0, 0.3));\n",
              "      fill: #FFFFFF;\n",
              "    }\n",
              "  </style>\n",
              "\n",
              "      <script>\n",
              "        const buttonEl =\n",
              "          document.querySelector('#df-7c8d2494-0b05-40a3-b5d0-3b039873170c button.colab-df-convert');\n",
              "        buttonEl.style.display =\n",
              "          google.colab.kernel.accessAllowed ? 'block' : 'none';\n",
              "\n",
              "        async function convertToInteractive(key) {\n",
              "          const element = document.querySelector('#df-7c8d2494-0b05-40a3-b5d0-3b039873170c');\n",
              "          const dataTable =\n",
              "            await google.colab.kernel.invokeFunction('convertToInteractive',\n",
              "                                                     [key], {});\n",
              "          if (!dataTable) return;\n",
              "\n",
              "          const docLinkHtml = 'Like what you see? Visit the ' +\n",
              "            '<a target=\"_blank\" href=https://colab.research.google.com/notebooks/data_table.ipynb>data table notebook</a>'\n",
              "            + ' to learn more about interactive tables.';\n",
              "          element.innerHTML = '';\n",
              "          dataTable['output_type'] = 'display_data';\n",
              "          await google.colab.output.renderOutput(dataTable, element);\n",
              "          const docLink = document.createElement('div');\n",
              "          docLink.innerHTML = docLinkHtml;\n",
              "          element.appendChild(docLink);\n",
              "        }\n",
              "      </script>\n",
              "    </div>\n",
              "  </div>\n",
              "  "
            ]
          },
          "metadata": {},
          "execution_count": 21
        }
      ],
      "source": [
        "edf = mst.get_edge_dataframe()\n",
        "edf.head()"
      ]
    },
    {
      "cell_type": "code",
      "execution_count": 22,
      "metadata": {
        "colab": {
          "base_uri": "https://localhost:8080/",
          "height": 430
        },
        "id": "TEwI5i9LquTu",
        "outputId": "ad6bbb0c-11de-4938-c841-0732b733cafa"
      },
      "outputs": [
        {
          "output_type": "display_data",
          "data": {
            "text/plain": [
              "<Figure size 640x480 with 1 Axes>"
            ],
            "image/png": "[encoded data removed]"
          },
          "metadata": {}
        }
      ],
      "source": [
        "import matplotlib.pyplot as plt\n",
        "weights = mst.es['weight']\n",
        "binwidth = 20\n",
        "bins = np.arange(min(weights), max(weights) + binwidth, binwidth)\n",
        "plt.hist(weights, bins=bins)\n",
        "plt.show()"
      ]
    },
    {
      "cell_type": "code",
      "source": [
        "from geopy.geocoders import Nominatim\n",
        "\n",
        "# Function to get street address near a location given its latitude and longitude\n",
        "def get_street_address(lat, lon):\n",
        "    geolocator = Nominatim(user_agent=\"my_geocoder\")\n",
        "    location = geolocator.reverse((lat, lon), exactly_one=True)\n",
        "    if location:\n",
        "        return location.address\n",
        "    return None\n",
        "\n",
        "num_edges_to_report = 5\n",
        "\n",
        "# Convert EdgeView to list and slice\n",
        "edges_to_report = list(mst.vs)[:num_edges_to_report]\n",
        "\n",
        "for i, e in enumerate(mst.es):\n",
        "    source_centroid = mst.vs[e.source]['coordinates']\n",
        "    target_centroid =  mst.vs[e.target]['coordinates']\n",
        "    source_address = get_street_address(source_centroid[1], source_centroid[0])\n",
        "    target_address = get_street_address(target_centroid[1], target_centroid[0])\n",
        "    \n",
        "    print(\"Edge: \", e.source, e.target)\n",
        "    print(\"Source Address:\", source_address)\n",
        "    print(\"Target Address:\", target_address)\n",
        "    print('Distance in miles: {:.3f}\\nTime taken: {:.1f}\\n---------\\n'.format(linalg.norm(mst.vs[e.source]['coordinates'] - mst.vs[e.target]['coordinates'])* 69, e['weight']))\n",
        "    print()\n",
        "    if i > 10:\n",
        "        break"
      ],
      "metadata": {
        "colab": {
          "base_uri": "https://localhost:8080/"
        },
        "id": "0QNGUHpSyzsX",
        "outputId": "b85f91db-ce24-43ae-f851-5b3c5a5dde3e"
      },
      "execution_count": 23,
      "outputs": [
        {
          "output_type": "stream",
          "name": "stdout",
          "text": [
            "Edge:  0 2\n",
            "Source Address: Sacred Heart Retreat House - Saint Joseph Campus, 507, North Granada Avenue, Alhambra, Los Angeles County, California, 91801, United States\n",
            "Target Address: 269, Woodward Avenue, Alhambra, Los Angeles County, California, 91801, United States\n",
            "Distance in miles: 0.885\n",
            "Time taken: 129.8\n",
            "---------\n",
            "\n",
            "\n",
            "Edge:  0 13\n",
            "Source Address: Sacred Heart Retreat House - Saint Joseph Campus, 507, North Granada Avenue, Alhambra, Los Angeles County, California, 91801, United States\n",
            "Target Address: 320, Cordova Street, Alhambra, Los Angeles County, CAL Fire Southern Region, California, 91801, United States\n",
            "Distance in miles: 0.570\n",
            "Time taken: 118.3\n",
            "---------\n",
            "\n",
            "\n",
            "Edge:  1 2\n",
            "Source Address: 402, North Marguerita Avenue, Alhambra, Los Angeles County, California, 91801, United States\n",
            "Target Address: 269, Woodward Avenue, Alhambra, Los Angeles County, California, 91801, United States\n",
            "Distance in miles: 0.447\n",
            "Time taken: 90.2\n",
            "---------\n",
            "\n",
            "\n",
            "Edge:  1 3\n",
            "Source Address: 402, North Marguerita Avenue, Alhambra, Los Angeles County, California, 91801, United States\n",
            "Target Address: 926, North Garfield Avenue, Alhambra, Los Angeles County, California, 91801, United States\n",
            "Distance in miles: 0.621\n",
            "Time taken: 126.5\n",
            "---------\n",
            "\n",
            "\n",
            "Edge:  1 9\n",
            "Source Address: 402, North Marguerita Avenue, Alhambra, Los Angeles County, California, 91801, United States\n",
            "Target Address: Marengo Avenue, Alhambra, Los Angeles County, California, 91803, United States\n",
            "Distance in miles: 0.812\n",
            "Time taken: 125.7\n",
            "---------\n",
            "\n",
            "\n",
            "Edge:  2 12\n",
            "Source Address: 269, Woodward Avenue, Alhambra, Los Angeles County, California, 91801, United States\n",
            "Target Address: 547, South 5th Street, Alhambra, Los Angeles County, CAL Fire Southern Region, California, 91801, United States\n",
            "Distance in miles: 0.618\n",
            "Time taken: 119.9\n",
            "---------\n",
            "\n",
            "\n",
            "Edge:  3 4\n",
            "Source Address: 926, North Garfield Avenue, Alhambra, Los Angeles County, California, 91801, United States\n",
            "Target Address: 1992, West Alhambra Road, Alhambra, Los Angeles County, California, 91801, United States\n",
            "Distance in miles: 0.936\n",
            "Time taken: 125.2\n",
            "---------\n",
            "\n",
            "\n",
            "Edge:  4 8\n",
            "Source Address: 1992, West Alhambra Road, Alhambra, Los Angeles County, California, 91801, United States\n",
            "Target Address: 2450, West Grand Avenue, Alhambra, Los Angeles County, California, 91801, United States\n",
            "Distance in miles: 0.412\n",
            "Time taken: 91.8\n",
            "---------\n",
            "\n",
            "\n",
            "Edge:  5 8\n",
            "Source Address: 2666, West Alhambra Road, Alhambra, Los Angeles County, California, 91801, United States\n",
            "Target Address: 2450, West Grand Avenue, Alhambra, Los Angeles County, California, 91801, United States\n",
            "Distance in miles: 0.256\n",
            "Time taken: 60.9\n",
            "---------\n",
            "\n",
            "\n",
            "Edge:  5 1664\n",
            "Source Address: 2666, West Alhambra Road, Alhambra, Los Angeles County, California, 91801, United States\n",
            "Target Address: 5770, West Alhambra Road, Los Angeles, Los Angeles County, CAL Fire Southern Region, California, 90032, United States\n",
            "Distance in miles: 0.204\n",
            "Time taken: 87.1\n",
            "---------\n",
            "\n",
            "\n",
            "Edge:  5 2000\n",
            "Source Address: 2666, West Alhambra Road, Alhambra, Los Angeles County, California, 91801, United States\n",
            "Target Address: 1281, Oak Street, South Pasadena, Los Angeles County, California, 91030, United States\n",
            "Distance in miles: 0.620\n",
            "Time taken: 110.9\n",
            "---------\n",
            "\n",
            "\n",
            "Edge:  6 7\n",
            "Source Address: 2484, Orange Street, Alhambra, Los Angeles County, California, 91803, United States\n",
            "Target Address: 386, La Paloma Street, Alhambra, Los Angeles County, CAL Fire Southern Region, California, 91801, United States\n",
            "Distance in miles: 0.493\n",
            "Time taken: 162.3\n",
            "---------\n",
            "\n",
            "\n"
          ]
        }
      ]
    },
    {
      "cell_type": "markdown",
      "metadata": {
        "id": "fEolkF_kquTv"
      },
      "source": [
        "# TSP Approximation"
      ]
    },
    {
      "cell_type": "markdown",
      "metadata": {
        "id": "DZQ9eYXdquTv"
      },
      "source": [
        "### Check Traingle Inequality"
      ]
    },
    {
      "cell_type": "code",
      "execution_count": 24,
      "metadata": {
        "colab": {
          "base_uri": "https://localhost:8080/"
        },
        "id": "3tWLGECLquTv",
        "outputId": "7899e789-8b83-458e-9408-f02a3b9cd79a"
      },
      "outputs": [
        {
          "output_type": "stream",
          "name": "stdout",
          "text": [
            "Test: False True\n"
          ]
        }
      ],
      "source": [
        "def is_triangle(sides):\n",
        "    sides.sort()\n",
        "    return sides[0] + sides[1] > sides[2]\n",
        "\n",
        "print('Test:', is_triangle([1,4,2]), is_triangle([3,5,3]))"
      ]
    },
    {
      "cell_type": "code",
      "execution_count": 68,
      "metadata": {
        "id": "qC9FdbdXquTw"
      },
      "outputs": [],
      "source": [
        "def sample_triangles(g, n_samples):\n",
        "    result = []\n",
        "    all_vertices = list(g.vs)\n",
        "    num_vertices = len(all_vertices)\n",
        "\n",
        "    for _ in range(n_samples):\n",
        "        triangle_vs = random.sample(all_vertices, 3)\n",
        "        triangle_ids = [v.index for v in triangle_vs]\n",
        "        result.append(tuple(triangle_ids))\n",
        "\n",
        "    return result"
      ]
    },
    {
      "cell_type": "code",
      "execution_count": 70,
      "metadata": {
        "colab": {
          "base_uri": "https://localhost:8080/"
        },
        "id": "bRCTg0LvquTw",
        "outputId": "8895bb23-4090-4a65-b246-e26175d91cf9"
      },
      "outputs": [
        {
          "output_type": "stream",
          "name": "stdout",
          "text": [
            "Triangle inequality holds by 6.8%. Out of all sampled, many do not have three edges.\n",
            "Sets that have 3 edges that are triangles: 97.1%\n"
          ]
        }
      ],
      "source": [
        "n_samples = 1000  # WARNING: this might take a minute for larger sample sizes\n",
        "triangles = 0\n",
        "sets_that_have_3_edges = 0\n",
        "sampled = sample_triangles(g, n_samples)\n",
        "for triangle_vs in sampled:\n",
        "    \n",
        "    edge_lengths = []\n",
        "    \n",
        "    for i in range(3):\n",
        "        for j in range(i):\n",
        "            edge = g.get_eid(triangle_vs[i], triangle_vs[j], directed=False, error=False)\n",
        "            if edge != -1:\n",
        "                edge_lengths.append(g.es[edge]['weight'])\n",
        "\n",
        "    if len(edge_lengths) == 3:\n",
        "        sets_that_have_3_edges += 1\n",
        "        triangles += is_triangle(edge_lengths)\n",
        "    \n",
        "print('Triangle inequality holds by {}%. Out of all sampled, many do not have three edges.'.format(round(100.0 * triangles / n_samples, 1)))\n",
        "print('Sets that have 3 edges that are triangles: {}%'.format(round(100.0 * triangles / sets_that_have_3_edges, 1)))"
      ]
    },
    {
      "cell_type": "code",
      "execution_count": 74,
      "metadata": {
        "id": "_wkJZ1hvquTx"
      },
      "outputs": [],
      "source": [
        "def preorder_traversal(root, root_parent=None):\n",
        "    result = [root]\n",
        "\n",
        "    for child in root.neighbors():\n",
        "        if child.index != root_parent:\n",
        "            result.extend(preorder_traversal(child, root.index))\n",
        "\n",
        "    return result\n"
      ]
    },
    {
      "cell_type": "code",
      "source": [
        "def preorder_traversal(root, root_parent=None):\n",
        "    result = [root]\n",
        "\n",
        "    neighbors = root.neighbors()\n",
        "    if root_parent is not None:\n",
        "        neighbors.remove(root_parent)\n",
        "\n",
        "    for neighbor in neighbors:\n",
        "        result.extend(preorder_traversal(neighbor, root))\n",
        "\n",
        "    return result"
      ],
      "metadata": {
        "id": "XkvlfO6n5Slh"
      },
      "execution_count": 87,
      "outputs": []
    },
    {
      "cell_type": "markdown",
      "metadata": {
        "id": "OYp2SyjoquTx"
      },
      "source": [
        "### Preorder Traversal Demo"
      ]
    },
    {
      "cell_type": "code",
      "execution_count": 75,
      "metadata": {
        "colab": {
          "base_uri": "https://localhost:8080/",
          "height": 354
        },
        "id": "PJn9A-xYquTy",
        "outputId": "9acd5d76-50f2-4b6a-8289-313b965f3b7f"
      },
      "outputs": [
        {
          "output_type": "error",
          "ename": "AttributeError",
          "evalue": "ignored",
          "traceback": [
            "\u001b[0;31m---------------------------------------------------------------------------\u001b[0m",
            "\u001b[0;31mAttributeError\u001b[0m                            Traceback (most recent call last)",
            "\u001b[0;32m<ipython-input-75-323b0b600fcb>\u001b[0m in \u001b[0;36m<cell line: 9>\u001b[0;34m()\u001b[0m\n\u001b[1;32m      7\u001b[0m \u001b[0mvisual_style\u001b[0m\u001b[0;34m[\u001b[0m\u001b[0;34m\"bbox\"\u001b[0m\u001b[0;34m]\u001b[0m \u001b[0;34m=\u001b[0m \u001b[0;34m(\u001b[0m\u001b[0;36m200\u001b[0m\u001b[0;34m,\u001b[0m \u001b[0;36m200\u001b[0m\u001b[0;34m)\u001b[0m\u001b[0;34m\u001b[0m\u001b[0;34m\u001b[0m\u001b[0m\n\u001b[1;32m      8\u001b[0m \u001b[0;34m\u001b[0m\u001b[0m\n\u001b[0;32m----> 9\u001b[0;31m \u001b[0mplot\u001b[0m\u001b[0;34m(\u001b[0m\u001b[0mt\u001b[0m\u001b[0;34m,\u001b[0m \u001b[0;34m**\u001b[0m\u001b[0mvisual_style\u001b[0m\u001b[0;34m)\u001b[0m\u001b[0;34m\u001b[0m\u001b[0;34m\u001b[0m\u001b[0m\n\u001b[0m",
            "\u001b[0;32m/usr/local/lib/python3.10/dist-packages/igraph/drawing/__init__.py\u001b[0m in \u001b[0;36mplot\u001b[0;34m(obj, target, bbox, *args, **kwds)\u001b[0m\n\u001b[1;32m    282\u001b[0m     \u001b[0mbackground\u001b[0m \u001b[0;34m=\u001b[0m \u001b[0mkwds\u001b[0m\u001b[0;34m.\u001b[0m\u001b[0mpop\u001b[0m\u001b[0;34m(\u001b[0m\u001b[0;34m\"background\"\u001b[0m\u001b[0;34m,\u001b[0m \u001b[0;34m\"white\"\u001b[0m\u001b[0;34m)\u001b[0m\u001b[0;34m\u001b[0m\u001b[0;34m\u001b[0m\u001b[0m\n\u001b[1;32m    283\u001b[0m     \u001b[0mmargin\u001b[0m \u001b[0;34m=\u001b[0m \u001b[0mfloat\u001b[0m\u001b[0;34m(\u001b[0m\u001b[0mkwds\u001b[0m\u001b[0;34m.\u001b[0m\u001b[0mpop\u001b[0m\u001b[0;34m(\u001b[0m\u001b[0;34m\"margin\"\u001b[0m\u001b[0;34m,\u001b[0m \u001b[0;36m20\u001b[0m\u001b[0;34m)\u001b[0m\u001b[0;34m)\u001b[0m\u001b[0;34m\u001b[0m\u001b[0;34m\u001b[0m\u001b[0m\n\u001b[0;32m--> 284\u001b[0;31m     result = CairoPlot(\n\u001b[0m\u001b[1;32m    285\u001b[0m         \u001b[0mtarget\u001b[0m\u001b[0;34m=\u001b[0m\u001b[0mtarget\u001b[0m\u001b[0;34m,\u001b[0m\u001b[0;34m\u001b[0m\u001b[0;34m\u001b[0m\u001b[0m\n\u001b[1;32m    286\u001b[0m         \u001b[0mbbox\u001b[0m\u001b[0;34m=\u001b[0m\u001b[0mbbox\u001b[0m\u001b[0;34m,\u001b[0m\u001b[0;34m\u001b[0m\u001b[0;34m\u001b[0m\u001b[0m\n",
            "\u001b[0;32m/usr/local/lib/python3.10/dist-packages/igraph/drawing/cairo/plot.py\u001b[0m in \u001b[0;36m__init__\u001b[0;34m(self, target, bbox, palette, background)\u001b[0m\n\u001b[1;32m    146\u001b[0m         \u001b[0;32mif\u001b[0m \u001b[0mtarget\u001b[0m \u001b[0;32mis\u001b[0m \u001b[0;32mNone\u001b[0m\u001b[0;34m:\u001b[0m\u001b[0;34m\u001b[0m\u001b[0;34m\u001b[0m\u001b[0m\n\u001b[1;32m    147\u001b[0m             \u001b[0mself\u001b[0m\u001b[0;34m.\u001b[0m\u001b[0m_need_tmpfile\u001b[0m \u001b[0;34m=\u001b[0m \u001b[0;32mTrue\u001b[0m\u001b[0;34m\u001b[0m\u001b[0;34m\u001b[0m\u001b[0m\n\u001b[0;32m--> 148\u001b[0;31m             self._surface = cairo.ImageSurface(\n\u001b[0m\u001b[1;32m    149\u001b[0m                 \u001b[0mcairo\u001b[0m\u001b[0;34m.\u001b[0m\u001b[0mFORMAT_ARGB32\u001b[0m\u001b[0;34m,\u001b[0m \u001b[0mint\u001b[0m\u001b[0;34m(\u001b[0m\u001b[0mself\u001b[0m\u001b[0;34m.\u001b[0m\u001b[0mbbox\u001b[0m\u001b[0;34m.\u001b[0m\u001b[0mwidth\u001b[0m\u001b[0;34m)\u001b[0m\u001b[0;34m,\u001b[0m \u001b[0mint\u001b[0m\u001b[0;34m(\u001b[0m\u001b[0mself\u001b[0m\u001b[0;34m.\u001b[0m\u001b[0mbbox\u001b[0m\u001b[0;34m.\u001b[0m\u001b[0mheight\u001b[0m\u001b[0;34m)\u001b[0m\u001b[0;34m\u001b[0m\u001b[0;34m\u001b[0m\u001b[0m\n\u001b[1;32m    150\u001b[0m             )\n",
            "\u001b[0;32m/usr/local/lib/python3.10/dist-packages/igraph/drawing/utils.py\u001b[0m in \u001b[0;36m__getattr__\u001b[0;34m(self, _)\u001b[0m\n\u001b[1;32m    426\u001b[0m \u001b[0;34m\u001b[0m\u001b[0m\n\u001b[1;32m    427\u001b[0m     \u001b[0;32mdef\u001b[0m \u001b[0m__getattr__\u001b[0m\u001b[0;34m(\u001b[0m\u001b[0mself\u001b[0m\u001b[0;34m,\u001b[0m \u001b[0m_\u001b[0m\u001b[0;34m)\u001b[0m\u001b[0;34m:\u001b[0m\u001b[0;34m\u001b[0m\u001b[0;34m\u001b[0m\u001b[0m\n\u001b[0;32m--> 428\u001b[0;31m         \u001b[0;32mraise\u001b[0m \u001b[0mAttributeError\u001b[0m\u001b[0;34m(\u001b[0m\u001b[0mself\u001b[0m\u001b[0;34m.\u001b[0m\u001b[0m_message\u001b[0m\u001b[0;34m)\u001b[0m\u001b[0;34m\u001b[0m\u001b[0;34m\u001b[0m\u001b[0m\n\u001b[0m\u001b[1;32m    429\u001b[0m \u001b[0;34m\u001b[0m\u001b[0m\n\u001b[1;32m    430\u001b[0m     \u001b[0;32mdef\u001b[0m \u001b[0m__call__\u001b[0m\u001b[0;34m(\u001b[0m\u001b[0mself\u001b[0m\u001b[0;34m,\u001b[0m \u001b[0m_\u001b[0m\u001b[0;34m)\u001b[0m\u001b[0;34m:\u001b[0m\u001b[0;34m\u001b[0m\u001b[0;34m\u001b[0m\u001b[0m\n",
            "\u001b[0;31mAttributeError\u001b[0m: Plotting not available; please install pycairo or cairocffi"
          ]
        }
      ],
      "source": [
        "t = Graph.Tree(20, 3)\n",
        "\n",
        "visual_style = {}\n",
        "visual_style[\"vertex_color\"] = 'yellow'\n",
        "visual_style[\"vertex_label\"] = [v.index for v in t.vs]\n",
        "visual_style[\"vertex_label_color\"] = 'blue'\n",
        "visual_style[\"bbox\"] = (200, 200)\n",
        "\n",
        "plot(t, **visual_style)"
      ]
    },
    {
      "cell_type": "code",
      "source": [
        "t = g.spanning_tree(weights=g.es['weight'])\n",
        "mst_cost = sum(t.es['weight'])\n",
        "\n",
        "g_multigraph = Graph(directed=True)\n",
        "g_multigraph.add_vertices(len(t.vs))\n",
        "\n",
        "edge_indices = []\n",
        "for e in t.es:\n",
        "    src, dest = e.source, e.target\n",
        "    g_multigraph.add_edges([(src, dest), (dest, src)])\n",
        "    edge_indices.append(g_multigraph.get_eid(src, dest, directed=True, error=False))\n",
        "    edge_indices.append(g_multigraph.get_eid(dest, src, directed=True, error=False))\n",
        "\n",
        "visited = [False] * len(g_multigraph.vs)\n",
        "euler_tour = []\n",
        "\n",
        "def dfs(v):\n",
        "    visited[v] = True\n",
        "    euler_tour.append(v)\n",
        "    for neighbor in g_multigraph.neighbors(v, mode=\"OUT\"):\n",
        "        if not visited[neighbor]:\n",
        "            dfs(neighbor)\n",
        "            euler_tour.append(v)  # backtrack to current vertex\n",
        "\n",
        "start_vertex = 0  # Start the DFS from any vertex, here we choose index 0\n",
        "dfs(start_vertex)\n",
        "\n",
        "tour_sequence = [v for v in euler_tour if not visited[v]]  # Remove duplicates\n",
        "tsp = tour_sequence[:-1]  # Remove the duplicate final node"
      ],
      "metadata": {
        "id": "n0ZBTyk35qRM"
      },
      "execution_count": 89,
      "outputs": []
    },
    {
      "cell_type": "code",
      "source": [
        "print('IDs:\\n' + '-' * 10 + '\\n' + '\\n'.join([g.vs[i]['display_name'] for i in tsp]))\n"
      ],
      "metadata": {
        "colab": {
          "base_uri": "https://localhost:8080/"
        },
        "id": "2s4ScYhD6JiA",
        "outputId": "e24ca5d0-c19e-4757-a801-2049df63c47c"
      },
      "execution_count": 91,
      "outputs": [
        {
          "output_type": "stream",
          "name": "stdout",
          "text": [
            "IDs:\n",
            "----------\n",
            "\n"
          ]
        }
      ]
    },
    {
      "cell_type": "code",
      "execution_count": 76,
      "metadata": {
        "colab": {
          "base_uri": "https://localhost:8080/"
        },
        "id": "_AYybok6quTy",
        "outputId": "6c9b27a6-2a0b-44d3-e7a8-2f222fa689d7"
      },
      "outputs": [
        {
          "output_type": "stream",
          "name": "stdout",
          "text": [
            "[0, 1, 4, 13, 14, 15, 5, 16, 17, 18, 6, 19, 2, 7, 8, 9, 3, 10, 11, 12]\n"
          ]
        }
      ],
      "source": [
        "print([v.index for v in preorder_traversal(t.vs[0])])"
      ]
    },
    {
      "cell_type": "markdown",
      "metadata": {
        "id": "tWdxYc3RquTy"
      },
      "source": [
        "### Actual Data"
      ]
    },
    {
      "cell_type": "code",
      "execution_count": 77,
      "metadata": {
        "colab": {
          "base_uri": "https://localhost:8080/"
        },
        "id": "mnmBKXDDquTy",
        "outputId": "492e2fba-b140-43ae-cf14-78a1bd177341"
      },
      "outputs": [
        {
          "output_type": "stream",
          "name": "stdout",
          "text": [
            "IDs:\n",
            "----------\n",
            "Census Tract 480302\n",
            "Census Tract 480303\n",
            "Census Tract 480302\n",
            "Census Tract 480304\n",
            "Census Tract 480302\n",
            "Census Tract 480400\n",
            "Census Tract 480303\n",
            "Census Tract 480500\n",
            "Census Tract 480303\n",
            "Census Tract 480704\n",
            "Census Tract 480303\n",
            "Census Tract 480802\n",
            "Census Tract 480304\n",
            "Census Tract 480803\n",
            "Census Tract 480304\n",
            "Census Tract 480804\n",
            "Census Tract 480304\n",
            "Census Tract 480901\n",
            "Census Tract 480400\n",
            "Census Tract 480902\n",
            "Census Tract 480400\n",
            "Census Tract 480903\n",
            "Census Tract 480400\n",
            "Census Tract 481001\n",
            "Census Tract 480500\n",
            "Census Tract 481002\n",
            "Census Tract 480500\n",
            "Census Tract 481500\n",
            "Census Tract 480500\n",
            "Census Tract 481603\n",
            "Census Tract 480704\n",
            "Census Tract 481604\n",
            "Census Tract 480704\n",
            "Census Tract 481605\n",
            "Census Tract 480704\n",
            "Census Tract 481606\n",
            "Census Tract 480802\n",
            "Census Tract 481800\n"
          ]
        }
      ],
      "source": [
        "tsp = []\n",
        "for edge in t.es:\n",
        "    tsp.extend([edge.source, edge.target])\n",
        "print('IDs:\\n' + '-' * 10 + '\\n' + '\\n'.join([mst.vs[i]['display_name'] for i in tsp]))"
      ]
    },
    {
      "cell_type": "code",
      "execution_count": 79,
      "metadata": {
        "colab": {
          "base_uri": "https://localhost:8080/"
        },
        "id": "Gx9Fga2squTz",
        "outputId": "1f262392-7b96-42dc-f594-675fbdab87dc"
      },
      "outputs": [
        {
          "output_type": "stream",
          "name": "stdout",
          "text": [
            "Hop distances:\n",
            "----------\n",
            "250.180\n",
            "129.765\n",
            "137.050\n",
            "140.950\n",
            "249.960\n",
            "425.695\n",
            "354.325\n",
            "274.665\n",
            "187.210\n",
            "373.260\n",
            "520.820\n",
            "265.555\n",
            "447.875\n",
            "763.930\n",
            "624.635\n",
            "616.915\n",
            "673.815\n",
            "714.075\n",
            "386.920\n"
          ]
        }
      ],
      "source": [
        "hop_distances = []\n",
        "for i in range(0, len(tsp) - 1, 2):\n",
        "    hop_distances.append(min(g.es.select(_between=([tsp[i]], [tsp[i + 1]]))['weight']))\n",
        "\n",
        "print('Hop distances:\\n' + '-' * 10 + '\\n' +\n",
        "      '\\n'.join(['{:.3f}'.format(x) for x in hop_distances]))"
      ]
    },
    {
      "cell_type": "markdown",
      "metadata": {
        "id": "dWw83EApquTz"
      },
      "source": [
        "### Measureing Relative Performance Guarantee"
      ]
    },
    {
      "cell_type": "code",
      "execution_count": 80,
      "metadata": {
        "id": "l4Pc2RAzquTz"
      },
      "outputs": [],
      "source": [
        "mst_cost = sum(mst.es['weight'])"
      ]
    },
    {
      "cell_type": "markdown",
      "metadata": {
        "id": "Nt-zFu6DquTz"
      },
      "source": [
        "<hr><b><font color=\"red\">WARNING: SLOW!</font></b>"
      ]
    },
    {
      "cell_type": "code",
      "execution_count": 81,
      "metadata": {
        "colab": {
          "base_uri": "https://localhost:8080/"
        },
        "id": "e3jJfD6GquT0",
        "outputId": "e4d4ff29-43e4-4472-f554-d312f7fa4a58"
      },
      "outputs": [
        {
          "output_type": "stream",
          "name": "stdout",
          "text": [
            "0\n"
          ]
        }
      ],
      "source": [
        "tsp_cost = 0\n",
        "for i in range(len(tsp)):\n",
        "    if i % 100 == 0:\n",
        "        print(i)\n",
        "    tsp_cost += min(g.es.select(_between=([tsp[i]], [tsp[(i + 1) % len(tsp)]]))['weight'])\n"
      ]
    },
    {
      "cell_type": "code",
      "execution_count": 82,
      "metadata": {
        "colab": {
          "base_uri": "https://localhost:8080/"
        },
        "id": "aPsIiba0quT1",
        "outputId": "0421ed70-b40b-449b-92ec-e640bcf84219"
      },
      "outputs": [
        {
          "output_type": "stream",
          "name": "stdout",
          "text": [
            "MST Cost: 269085\n",
            "TSP Cost: 15650\n",
            "Ratio: 0.06\n"
          ]
        }
      ],
      "source": [
        "print('MST Cost:', round(mst_cost))\n",
        "print('TSP Cost:', round(tsp_cost))\n",
        "print('Ratio:', round(tsp_cost/mst_cost, 2))"
      ]
    },
    {
      "cell_type": "markdown",
      "metadata": {
        "id": "XNk7mYlAquT2"
      },
      "source": [
        "---\n",
        "TSP results should resemble the following figure"
      ]
    },
    {
      "cell_type": "code",
      "execution_count": 83,
      "metadata": {
        "id": "dgiNEhJVquT2"
      },
      "outputs": [],
      "source": [
        "all_coordinates = np.array(g.vs['coordinates'])\n",
        "tsp_coordinates = all_coordinates[tsp, :]\n",
        "tsp_coordinates = np.vstack([tsp_coordinates, tsp_coordinates[0, :]])  # connect the last element back to the first element"
      ]
    },
    {
      "cell_type": "code",
      "execution_count": 86,
      "metadata": {
        "colab": {
          "base_uri": "https://localhost:8080/",
          "height": 465
        },
        "id": "BBALQSuEquT3",
        "outputId": "87761de9-606e-42a4-f4b4-3e25b893c1d0"
      },
      "outputs": [
        {
          "output_type": "display_data",
          "data": {
            "text/plain": [
              "<Figure size 500x500 with 1 Axes>"
            ],
            "image/png": "[encoded data removed]"
          },
          "metadata": {}
        }
      ],
      "source": [
        "plt.figure(figsize=(5,5))\n",
        "plt.plot(tsp_coordinates[:, 0], tsp_coordinates[:, 1],'-')\n",
        "plt.show()"
      ]
    },
    {
      "cell_type": "markdown",
      "metadata": {
        "id": "5AMebBXKquT3"
      },
      "source": [
        "### Triangulation"
      ]
    },
    {
      "cell_type": "code",
      "execution_count": null,
      "metadata": {
        "id": "M8OenoAvquT4"
      },
      "outputs": [],
      "source": [
        "tri = #use the Delaunay function imported above "
      ]
    },
    {
      "cell_type": "code",
      "execution_count": null,
      "metadata": {
        "id": "L8xPbFFLquT4"
      },
      "outputs": [],
      "source": [
        "plt.figure(figsize=(15,15))\n",
        "plt.triplot(coordinates[:, 0], coordinates[:, 1], tri.simplices.copy())\n",
        "plt.show()"
      ]
    },
    {
      "cell_type": "code",
      "execution_count": null,
      "metadata": {
        "scrolled": true,
        "id": "wCWPuXyxquT4"
      },
      "outputs": [],
      "source": [
        "edges_to_induce = []\n",
        "\n",
        "for i in range(tri.simplices.shape[0]):\n",
        "    for col1, col2 in ((0, 1), (1, 2), (0, 2)):\n",
        "        #add the edges to edges_to_induce\n"
      ]
    },
    {
      "cell_type": "code",
      "execution_count": null,
      "metadata": {
        "id": "FFDYoRBjquT5"
      },
      "outputs": [],
      "source": [
        "tri_g = g.subgraph_edges(edges_to_induce)"
      ]
    },
    {
      "cell_type": "markdown",
      "metadata": {
        "id": "AeI5pvIEquT5"
      },
      "source": [
        "### Estimate Traffic Flows"
      ]
    },
    {
      "cell_type": "code",
      "execution_count": null,
      "metadata": {
        "id": "IyMHEojxquT5"
      },
      "outputs": [],
      "source": [
        "edge_ends = #write here \n",
        "sources, targets = #write here \n",
        "distances = #write here \n",
        "speeds =  # write here   # mph\n",
        "car_length = 0.003  # (miles)\n",
        "safety_distances = speeds * (2/3600)  # in miles, derived from 2 sec distance\n",
        "cars_per_mile = #write here\n",
        "n_lanes = 2\n",
        "cars_per_hour = #write here \n"
      ]
    },
    {
      "cell_type": "code",
      "execution_count": null,
      "metadata": {
        "id": "7A-Xz0A7quT6"
      },
      "outputs": [],
      "source": [
        "tri_g.es['capacity'] = cars_per_hour"
      ]
    },
    {
      "cell_type": "markdown",
      "metadata": {
        "id": "wNITUx9bquT6"
      },
      "source": [
        "# Max Flow Analysis"
      ]
    },
    {
      "cell_type": "code",
      "execution_count": null,
      "metadata": {
        "id": "8t53MO39quT6"
      },
      "outputs": [],
      "source": [
        "source_coordinates = [-118.5670548, 34.0458901]  # malibu\n",
        "dest_coordinates = [-118.1819374, 33.759958]  # long beach"
      ]
    },
    {
      "cell_type": "markdown",
      "metadata": {
        "id": "1KrEHZRequT7"
      },
      "source": [
        "### Calculate Max Flow"
      ]
    },
    {
      "cell_type": "code",
      "execution_count": null,
      "metadata": {
        "id": "f1RnzmWWquT7"
      },
      "outputs": [],
      "source": [
        "print('Number of independent roads:', ) #max flow of graph (inbuilt is okay )\n",
        "print('Number of cars per hour:', )"
      ]
    },
    {
      "cell_type": "markdown",
      "metadata": {
        "id": "UmTsYfsjquT8"
      },
      "source": [
        "### Trimming Large-Distance (Non-Local) Roads"
      ]
    },
    {
      "cell_type": "code",
      "execution_count": null,
      "metadata": {
        "id": "8rcSOnpjquT8"
      },
      "outputs": [],
      "source": [
        "trim_thresh = 800"
      ]
    },
    {
      "cell_type": "code",
      "execution_count": null,
      "metadata": {
        "id": "6erTLBOFquT8"
      },
      "outputs": [],
      "source": [
        "edges_to_induce = tri_g.es.select(weight_le=trim_thresh)\n",
        "tri_g_trimmed = tri_g.subgraph_edges(edges_to_induce)"
      ]
    },
    {
      "cell_type": "markdown",
      "metadata": {
        "id": "GsOsNOoDquT9"
      },
      "source": [
        "### Visualizing Trimming Scheme"
      ]
    },
    {
      "cell_type": "markdown",
      "metadata": {
        "id": "RE8THrpIquT9"
      },
      "source": [
        "<hr><b><font color=\"red\">WARNING: SLOW!</font></b>"
      ]
    },
    {
      "cell_type": "code",
      "execution_count": null,
      "metadata": {
        "id": "qnk7hpZKquT9"
      },
      "outputs": [],
      "source": [
        "# plot the roads\n",
        "plt.figure(figsize=(15,15), dpi=200)\n",
        "for e in tri_g.es:\n",
        "    v1 = tri_g.vs[e.source]['coordinates']\n",
        "    v2 = tri_g.vs[e.target]['coordinates']\n",
        "    data = np.vstack([v1, v2])\n",
        "    x = data[:, 0]\n",
        "    y = data[:, 1]\n",
        "    plt.plot(x, y, '#8ab4f7' if e['weight'] < trim_thresh else '#fc9c3c')\n",
        "    \n",
        "# mark the source and destination\n",
        "# source = tri_g.vs.select(display_name=source_address)[0].index\n",
        "# target = tri_g.vs.select(display_name=dest_address)[0].index\n",
        "# v1 = tri_g.vs[source_idx]['coordinates']\n",
        "# v2 = tri_g.vs[dest_idx]['coordinates']\n",
        "# data = np.vstack([v1, v2])\n",
        "# x = data[:, 0]\n",
        "# y = data[:, 1]\n",
        "# plt.plot(x, y, 'bo')\n",
        "\n",
        "\n",
        "plt.axis('equal')\n",
        "plt.show()"
      ]
    },
    {
      "cell_type": "code",
      "execution_count": null,
      "metadata": {
        "id": "nlS0dj8IquT9"
      },
      "outputs": [],
      "source": [
        "print('Number of independent roads:', ) #max flow of TRIMMED graph\n",
        "print('Number of cars per hour:', )"
      ]
    },
    {
      "cell_type": "markdown",
      "metadata": {
        "id": "chU83fSUquT-"
      },
      "source": [
        "### Aside: Let's Get A Bit of Intuition about Data"
      ]
    },
    {
      "cell_type": "code",
      "execution_count": null,
      "metadata": {
        "id": "7KvpbA-FquT-"
      },
      "outputs": [],
      "source": [
        "\n",
        "plt.subplot(211)\n",
        "binwidth = 5\n",
        "bins = np.arange(np.min(distances), np.max(distances) + binwidth, binwidth)\n",
        "plt.hist(distances, bins=bins)\n",
        "plt.xlabel('Distance (miles)')\n",
        "plt.ylabel('Frequency')\n",
        "plt.title('Histogram of Distances')\n",
        "plt.show()\n",
        "\n",
        "plt.subplot(212)\n",
        "binwidth = 5\n",
        "bins = np.arange(0, 100 + binwidth, binwidth)\n",
        "plt.hist(speeds, bins=bins)#distances, bins=bins)\n",
        "plt.xlabel('Speed (mph)')\n",
        "plt.ylabel('Frequency')\n",
        "plt.title('Histogram of Speeds')\n",
        "plt.show()"
      ]
    },
    {
      "cell_type": "markdown",
      "metadata": {
        "id": "wsoqpHcHquT-"
      },
      "source": [
        "<b>ROAD NETWORK</b>"
      ]
    },
    {
      "cell_type": "code",
      "execution_count": null,
      "metadata": {
        "id": "LqVqGlTUquT_"
      },
      "outputs": [],
      "source": [
        "road_map = deepcopy(tri_g_trimmed)\n",
        "len(road_map.vs), len(road_map.es)"
      ]
    },
    {
      "cell_type": "markdown",
      "metadata": {
        "id": "6BGBWKplquT_"
      },
      "source": [
        "Strategy 1 (geodistance_static)"
      ]
    },
    {
      "cell_type": "code",
      "execution_count": null,
      "metadata": {
        "id": "jtWX4yY0quT_"
      },
      "outputs": [],
      "source": [
        "edge_ends = np.array([[e.source, e.target] for e in road_map.es])\n",
        "sources, targets = edge_ends[:, 0], edge_ends[:, 1]\n",
        "distances = #write here \n",
        "road_map.es['geo_distance'] = distances\n",
        "vcount = len(road_map.vs)\n",
        "max(distances)\n"
      ]
    },
    {
      "cell_type": "code",
      "execution_count": null,
      "metadata": {
        "id": "xbM4I4Z5quT_"
      },
      "outputs": [],
      "source": [
        "shortest_path_distance = #write here \n",
        "shortest_path_distance = np.array(shortest_path_distance)\n",
        "shortest_path_distance.shape"
      ]
    },
    {
      "cell_type": "code",
      "execution_count": null,
      "metadata": {
        "id": "ldiFTGYiquUA"
      },
      "outputs": [],
      "source": [
        "actual_geo_distances = np.zeros((vcount,vcount))\n",
        "actual_geo_distances = None \n",
        "differences = None\n",
        "\n"
      ]
    },
    {
      "cell_type": "code",
      "execution_count": null,
      "metadata": {
        "id": "EbiH4p16quUA"
      },
      "outputs": [],
      "source": [
        "ind = #argsort differences to get max value "
      ]
    },
    {
      "cell_type": "code",
      "execution_count": null,
      "metadata": {
        "id": "2mO1kn9FquUA"
      },
      "outputs": [],
      "source": [
        "new_static_edges = []\n",
        "for i in range(40): #40 because there will be repititions (A-> B is same as B-> A)\n",
        "    if i%2 ==0:\n",
        "        continue\n",
        "    newedge = None\n",
        "    print(#new edge nodes and the difference )\n",
        "    new_static_edges.append(newedge)"
      ]
    },
    {
      "cell_type": "code",
      "execution_count": null,
      "metadata": {
        "id": "69A1lYmRquUB"
      },
      "outputs": [],
      "source": [
        "#add the new_static_edges to our graph. \n",
        "\n",
        "road_map_static = deepcopy(tri_g_trimmed) #ensure to use deepcopy\n",
        "for edg in new_static_edges:\n",
        "    start = edg[0]\n",
        "    end = edg[1]\n",
        "    dist = # which distance to use? \n",
        "    road_map_static.add_edge(start, end, weight = dist)"
      ]
    },
    {
      "cell_type": "code",
      "execution_count": null,
      "metadata": {
        "id": "NrqUzytEquUB"
      },
      "outputs": [],
      "source": [
        "# plot the roads and highlight our new edges. \n",
        "plt.figure(figsize=(15,15), dpi=200)\n",
        "for e in road_map_static.es:\n",
        "    start = e.source\n",
        "    end = e.target\n",
        "    cur_edge = sorted([start,end])\n",
        "\n",
        "    v1 = road_map_static.vs[e.source]['coordinates']\n",
        "    v2 = road_map_static.vs[e.target]['coordinates']\n",
        "    data = np.vstack([v1, v2])\n",
        "    x = data[:, 0]\n",
        "    y = data[:, 1]\n",
        "    if cur_edge in new_static_edges:\n",
        "        print(cur_edge)\n",
        "        plt.plot(x,y,'#FF0000') \n",
        "    else:\n",
        "        plt.plot(x, y, '#8ab4f7')\n",
        "    \n",
        "# mark the source and destination\n",
        "# source = tri_g.vs.select(display_name=source_address)[0].index\n",
        "# target = tri_g.vs.select(display_name=dest_address)[0].index\n",
        "# v1 = road_map_static.vs[source_idx]['coordinates']\n",
        "# v2 = road_map_static.vs[dest_idx]['coordinates']\n",
        "# data = np.vstack([v1, v2])\n",
        "# x = data[:, 0]\n",
        "# y = data[:, 1]\n",
        "# plt.plot(x, y, 'bo')\n",
        "\n",
        "\n",
        "\n",
        "plt.axis('equal')\n",
        "plt.show()"
      ]
    },
    {
      "cell_type": "code",
      "execution_count": null,
      "metadata": {
        "id": "r9GCshJLquUC"
      },
      "outputs": [],
      "source": [
        "# A, B >1000, freq:10 ->10,000\n",
        "#C, D = 500 , 10,000 - > 500*10,000"
      ]
    },
    {
      "cell_type": "markdown",
      "metadata": {
        "id": "C6nlKGp1quUC"
      },
      "source": [
        "Strategy 2 (geo_distance, static, with_frequency)"
      ]
    },
    {
      "cell_type": "code",
      "execution_count": null,
      "metadata": {
        "id": "vP1zCzvcquUC"
      },
      "outputs": [],
      "source": [
        "np.random.seed(2022)\n",
        "frequencies = np.random.randint(1,1001, (vcount,vcount) )\n",
        "frequencies.shape"
      ]
    },
    {
      "cell_type": "code",
      "execution_count": null,
      "metadata": {
        "id": "vZfieazUquUC"
      },
      "outputs": [],
      "source": [
        "difference_frequency = np.multiply(differences,frequencies)"
      ]
    },
    {
      "cell_type": "code",
      "execution_count": null,
      "metadata": {
        "id": "cMfc75JaquUD"
      },
      "outputs": [],
      "source": [
        "ind = #argsort differences to get max value "
      ]
    },
    {
      "cell_type": "code",
      "execution_count": null,
      "metadata": {
        "id": "ZkAKE8vZquUD"
      },
      "outputs": [],
      "source": [
        "for i in range(40): #40 because there will be repititions (A-> B is same as B-> A)\n",
        "    if i%2 ==0:\n",
        "        continue\n",
        "    print(#new edge nodes and the difference )\n"
      ]
    },
    {
      "cell_type": "markdown",
      "metadata": {
        "id": "aj6TsZirquUD"
      },
      "source": [
        "Stategy 3 : (geo_distance, Dynamic)"
      ]
    },
    {
      "cell_type": "code",
      "execution_count": null,
      "metadata": {
        "id": "qeRpAKr8quUE"
      },
      "outputs": [],
      "source": [
        "road_map_dynamic = deepcopy(road_map)\n",
        "budget = 20\n",
        "new_dynamic_edges = []\n",
        "for i in range(budget):\n",
        "    \n",
        "    #get current graph shortest paths \n",
        "    #get differences \n",
        "    #sort differences and pich the highest         \n",
        "    # get vertices of new edge to build. Build the edge and print its vertices. \n",
        "    new_egde = None\n",
        "    print(new_Edge, difference_between_new_edge_vertices  )\n",
        "    new_dynamic_edges.append(new_edge )\n",
        "\n",
        "    #add the new edge \n",
        "    new_distance = #Get this \n",
        "    road_map_dynamic.add_edge(start, end, weight = -1 , geo_distance = new_distance)"
      ]
    },
    {
      "cell_type": "code",
      "execution_count": null,
      "metadata": {
        "id": "dz1s6-boquUE"
      },
      "outputs": [],
      "source": [
        "# plot the roads\n",
        "plt.figure(figsize=(15,15), dpi=200)\n",
        "for e in road_map_dynamic.es:\n",
        "    start = e.source\n",
        "    end = e.target\n",
        "    cur_edge = sorted([start,end])\n",
        "\n",
        "    v1 = road_map_dynamic.vs[e.source]['coordinates']\n",
        "    v2 = road_map_dynamic.vs[e.target]['coordinates']\n",
        "    data = np.vstack([v1, v2])\n",
        "    x = data[:, 0]\n",
        "    y = data[:, 1]\n",
        "    if cur_edge in new_dynamic_edges:\n",
        "        print(cur_edge)\n",
        "        plt.plot(x,y,'#FF0000')\n",
        "    else:\n",
        "        plt.plot(x, y, '#8ab4f7' )\n",
        "    \n",
        "# mark the source and destination\n",
        "# source = tri_g.vs.select(display_name=source_address)[0].index\n",
        "# target = tri_g.vs.select(display_name=dest_address)[0].index\n",
        "# v1 = road_map.vs[source_idx]['coordinates']\n",
        "# v2 = road_map.vs[dest_idx]['coordinates']\n",
        "# data = np.vstack([v1, v2])\n",
        "# x = data[:, 0]\n",
        "# y = data[:, 1]\n",
        "# plt.plot(x, y, 'bo')\n",
        "\n",
        "\n",
        "plt.axis('equal')\n",
        "plt.show()"
      ]
    },
    {
      "cell_type": "markdown",
      "metadata": {
        "id": "RTj7VeSZquUE"
      },
      "source": [
        "strategy 4 : (travel_time, static)"
      ]
    },
    {
      "cell_type": "code",
      "execution_count": null,
      "metadata": {
        "id": "9UgbUIX2quUE"
      },
      "outputs": [],
      "source": [
        "road_map_time = deepcopy(tri_g_trimmed)"
      ]
    },
    {
      "cell_type": "code",
      "execution_count": null,
      "metadata": {
        "id": "6YTSq9pKquUF"
      },
      "outputs": [],
      "source": [
        "#get current shortest times\n",
        "#get current shortest distances \n",
        "#speed = shortest_distance/time\n",
        "time_diffence = current_shortest_time - actual_geo_distance/speed  \n",
        "#explicitly set time_diffence to 0 for self edges, to avoid divide_by_zero error"
      ]
    },
    {
      "cell_type": "markdown",
      "metadata": {
        "id": "yQ-XSGrmquUF"
      },
      "source": [
        "time dynamic"
      ]
    },
    {
      "cell_type": "code",
      "execution_count": null,
      "metadata": {
        "id": "5m9M-9c0quUF"
      },
      "outputs": [],
      "source": [
        "road_map_time_dynamic = deepcopy(tri_g_trimmed)"
      ]
    },
    {
      "cell_type": "code",
      "execution_count": null,
      "metadata": {
        "id": "_M_Gc78GquUG"
      },
      "outputs": [],
      "source": [
        "budget = 20\n",
        "new_dynamic_time_edges = []\n",
        "\n",
        "for i in range(budget):\n",
        "\n",
        "    "
      ]
    }
  ],
  "metadata": {
    "kernelspec": {
      "display_name": "Python 3",
      "language": "python",
      "name": "python3"
    },
    "language_info": {
      "codemirror_mode": {
        "name": "ipython",
        "version": 3
      },
      "file_extension": ".py",
      "mimetype": "text/x-python",
      "name": "python",
      "nbconvert_exporter": "python",
      "pygments_lexer": "ipython3",
      "version": "3.7.3"
    },
    "colab": {
      "provenance": []
    }
  },
  "nbformat": 4,
  "nbformat_minor": 0
}