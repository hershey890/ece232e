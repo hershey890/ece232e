{
 "cells": [
  {
   "cell_type": "code",
   "execution_count": 20,
   "metadata": {},
   "outputs": [],
   "source": [
    "import numpy as np\n",
    "import pandas as pd\n",
    "import networkx as nx\n",
    "from random import random"
   ]
  },
  {
   "cell_type": "code",
   "execution_count": 7,
   "metadata": {},
   "outputs": [],
   "source": [
    "graph = nx.read_edgelist('./data/facebook_combined.txt', create_using=nx.Graph(), nodetype=int)"
   ]
  },
  {
   "attachments": {},
   "cell_type": "markdown",
   "metadata": {},
   "source": [
    "### Question 16"
   ]
  },
  {
   "cell_type": "code",
   "execution_count": 22,
   "metadata": {},
   "outputs": [
    {
     "name": "stdout",
     "output_type": "stream",
     "text": [
      "11\n"
     ]
    }
   ],
   "source": [
    "target_node = 414\n",
    "personalized_network = nx.ego_graph(graph, target_node, radius=1)\n",
    "users = []\n",
    "\n",
    "for neighbor in personalized_network.neighbors(target_node):\n",
    "    if personalized_network.degree(neighbor) == 24:\n",
    "        users.append(neighbor)\n",
    "\n",
    "print(len(users))"
   ]
  },
  {
   "attachments": {},
   "cell_type": "markdown",
   "metadata": {},
   "source": [
    "### Question 17"
   ]
  },
  {
   "cell_type": "code",
   "execution_count": 49,
   "metadata": {},
   "outputs": [],
   "source": [
    "def common_neighbors(graph, node1, node2):\n",
    "    neighbors1 = set(graph.neighbors(node1))\n",
    "    neighbors2 = set(graph.neighbors(node2))\n",
    "    return len(neighbors1 & neighbors2)\n",
    "\n",
    "def jaccard_coefficient(graph, node1, node2):\n",
    "    neighbors1 = set(graph.neighbors(node1))\n",
    "    neighbors2 = set(graph.neighbors(node2))\n",
    "    return len(neighbors1 & neighbors2) / len(neighbors1 | neighbors2)\n",
    "\n",
    "def adamic_adar(graph, node1, node2):\n",
    "    neighbors1 = set(graph.neighbors(node1))\n",
    "    neighbors2 = set(graph.neighbors(node2))\n",
    "    common_neighbors = neighbors1 & neighbors2\n",
    "    return sum(1 / np.log(graph.degree(neighbor)) for neighbor in common_neighbors)\n",
    "\n",
    "def calc_accuracy(graph, node, new_friend_node):\n",
    "    node_neighbors = set(graph.neighbors(node))\n",
    "    friend_neighbors = set(graph.neighbors(new_friend_node))\n",
    "    return len(node_neighbors & friend_neighbors) / len(node_neighbors)"
   ]
  },
  {
   "cell_type": "code",
   "execution_count": 89,
   "metadata": {},
   "outputs": [
    {
     "name": "stdout",
     "output_type": "stream",
     "text": [
      "0.9468760521885522\n",
      "0.9322657309020946\n",
      "0.9439814163109617\n"
     ]
    }
   ],
   "source": [
    "def avg_acc_friend_recc(n_iters, friend_metric_func, users):\n",
    "    accuracy1 = 0\n",
    "    for user_i in users:\n",
    "        accuracy2 = 0\n",
    "        for _ in range(n_iters):\n",
    "            neighborhood = personalized_network.neighbors(user_i)\n",
    "            n = personalized_network.degree(user_i)\n",
    "            n_users_deleted = sum(np.random.rand(n) < 0.25)\n",
    "        \n",
    "            friend_nodes = []\n",
    "            friend_scores = []\n",
    "            for node in personalized_network.nodes():\n",
    "                if node not in neighborhood:\n",
    "                    friend_nodes.append(node)\n",
    "                    friend_scores.append(friend_metric_func(personalized_network, user_i, node))\n",
    "\n",
    "            inds = np.argsort(friend_scores)[::-1][:n_users_deleted]\n",
    "            accuracy3 = 0\n",
    "            for node in np.array(friend_nodes)[inds]:\n",
    "                accuracy3 += calc_accuracy(personalized_network, user_i, node)\n",
    "            accuracy2 += accuracy3 / n_users_deleted\n",
    "        accuracy1 += accuracy2 / n_iters\n",
    "    return accuracy1 / len(users)\n",
    "\n",
    "print(avg_acc_friend_recc(10, common_neighbors, users))\n",
    "print(avg_acc_friend_recc(10, jaccard_coefficient, users))\n",
    "print(avg_acc_friend_recc(10, adamic_adar, users))"
   ]
  }
 ],
 "metadata": {
  "kernelspec": {
   "display_name": "232",
   "language": "python",
   "name": "python3"
  },
  "language_info": {
   "codemirror_mode": {
    "name": "ipython",
    "version": 3
   },
   "file_extension": ".py",
   "mimetype": "text/x-python",
   "name": "python",
   "nbconvert_exporter": "python",
   "pygments_lexer": "ipython3",
   "version": "3.9.16"
  },
  "orig_nbformat": 4
 },
 "nbformat": 4,
 "nbformat_minor": 2
}
