{
 "cells": [
  {
   "cell_type": "markdown",
   "metadata": {
    "id": "nG8K_k9UlS6o"
   },
   "source": [
    "PROJECT 2\n",
    "\n",
    "PART (1) QUESTION (1.1) There are 4039 Nodes and 88234 Edges"
   ]
  },
  {
   "cell_type": "code",
   "execution_count": 1,
   "metadata": {
    "colab": {
     "base_uri": "https://localhost:8080/"
    },
    "id": "DImYO-JVlT7d",
    "outputId": "910fcd05-149d-4eac-d48f-37286bfea169"
   },
   "outputs": [
    {
     "name": "stdout",
     "output_type": "stream",
     "text": [
      "Drive already mounted at /content/gdrive; to attempt to forcibly remount, call drive.mount(\"/content/gdrive\", force_remount=True).\n"
     ]
    }
   ],
   "source": [
    "from google.colab import drive\n",
    "drive.mount('/content/gdrive')"
   ]
  },
  {
   "cell_type": "code",
   "execution_count": 2,
   "metadata": {
    "id": "OsQfHARkm97q"
   },
   "outputs": [],
   "source": [
    "#!pip install igraph"
   ]
  },
  {
   "cell_type": "code",
   "execution_count": 3,
   "metadata": {},
   "outputs": [
    {
     "name": "stdout",
     "output_type": "stream",
     "text": [
      "0.9.6\n"
     ]
    }
   ],
   "source": [
    "print(igraph.__version__)"
   ]
  },
  {
   "cell_type": "code",
   "execution_count": 2,
   "metadata": {
    "id": "PuHrzdpMm7Vv"
   },
   "outputs": [],
   "source": [
    "\n",
    "import igraph\n",
    "import numpy as np\n",
    "import pandas as pd\n",
    "import matplotlib.pyplot as plt\n",
    "from scipy.optimize import curve_fit\n",
    "from scipy.stats import linregress"
   ]
  },
  {
   "cell_type": "markdown",
   "metadata": {
    "id": "Ngz24FTuqtUo"
   },
   "source": [
    "PART (1) QUESTION (1.2) The graph is connected:"
   ]
  },
  {
   "cell_type": "code",
   "execution_count": 4,
   "metadata": {
    "colab": {
     "base_uri": "https://localhost:8080/"
    },
    "id": "Eakjozb_mDOy",
    "outputId": "cc09310d-bd99-4cd2-f45f-f1e0224f85a8"
   },
   "outputs": [
    {
     "name": "stdout",
     "output_type": "stream",
     "text": [
      "IGRAPH UN-- 4039 88234 -- \n",
      "+ attr: name (v)\n"
     ]
    }
   ],
   "source": [
    "path = 'facebook_combined.txt'\n",
    "\n",
    "# Load file\n",
    "data = np.loadtxt(path, dtype=int)\n",
    "\n",
    "# Convert to DataFrame\n",
    "df = pd.DataFrame(data, columns=['source', 'target'])\n",
    "\n",
    "# Create graph\n",
    "g = igraph.Graph.DataFrame(df, directed=False)\n",
    "\n",
    "# Print the graph summary\n",
    "print(g.summary())"
   ]
  },
  {
   "cell_type": "code",
   "execution_count": 5,
   "metadata": {
    "colab": {
     "base_uri": "https://localhost:8080/"
    },
    "id": "wBWn5YC1oLOB",
    "outputId": "893f93f8-5f92-46d9-a7ae-920a701a5bd6"
   },
   "outputs": [
    {
     "name": "stdout",
     "output_type": "stream",
     "text": [
      "The graph is connected!\n"
     ]
    }
   ],
   "source": [
    "# Check if the graph is connected\n",
    "if g.is_connected():\n",
    "    print(\"The graph is connected!\")\n",
    "else:\n",
    "    print(\"The graph is not connected!\")\n",
    "        # Get the size of the GCC\n",
    "    gcc = g.clusters().giant()\n",
    "    print(\"The size of the GCC is:\", gcc.vcount())"
   ]
  },
  {
   "cell_type": "markdown",
   "metadata": {
    "id": "5vZLhNmPqrBw"
   },
   "source": [
    "PART 1 QUESTION (2)"
   ]
  },
  {
   "cell_type": "code",
   "execution_count": 6,
   "metadata": {
    "colab": {
     "base_uri": "https://localhost:8080/"
    },
    "id": "4DqBQ3fEoMJA",
    "outputId": "3149b0b2-826c-4329-c0a8-7bea0233f806"
   },
   "outputs": [
    {
     "name": "stdout",
     "output_type": "stream",
     "text": [
      "The diameter of the graph is: 8\n"
     ]
    }
   ],
   "source": [
    "# Find the diameter of the graph\n",
    "diameter = g.diameter()\n",
    "print(\"The diameter of the graph is:\", diameter)"
   ]
  },
  {
   "cell_type": "markdown",
   "metadata": {
    "id": "S1Wi1w9yrgvj"
   },
   "source": [
    "PART 1 QUESTION (3)"
   ]
  },
  {
   "cell_type": "code",
   "execution_count": 7,
   "metadata": {
    "colab": {
     "base_uri": "https://localhost:8080/",
     "height": 489
    },
    "id": "qpGaxuWOrdKB",
    "outputId": "7b9cf57b-d5f0-441a-c460-2c1e3f7110a3"
   },
   "outputs": [
    {
     "data": {
      "image/png": "[encoded data removed]",
      "text/plain": [
       "<Figure size 432x288 with 1 Axes>"
      ]
     },
     "metadata": {
      "needs_background": "light"
     },
     "output_type": "display_data"
    },
    {
     "name": "stdout",
     "output_type": "stream",
     "text": [
      "The average degree of the graph is: 43.69101262688784\n"
     ]
    }
   ],
   "source": [
    "# Compute the degree of each vertex in the graph\n",
    "degree = g.degree()\n",
    "\n",
    "# Compute the degree distribution\n",
    "degree_dist = g.degree_distribution()\n",
    "\n",
    "# Plot the degree distribution\n",
    "plt.hist(degree, 'auto')\n",
    "plt.xlabel('Degree')\n",
    "plt.ylabel('Counts')\n",
    "plt.title('Degree distribution')\n",
    "plt.show()\n",
    "\n",
    "# Report the average degree\n",
    "avg_degree = sum(degree) / len(degree)\n",
    "print(\"The average degree of the graph is:\", avg_degree)"
   ]
  },
  {
   "cell_type": "code",
   "execution_count": 8,
   "metadata": {
    "colab": {
     "base_uri": "https://localhost:8080/",
     "height": 1000
    },
    "id": "bSZ8vVdWuz8S",
    "outputId": "0d47706a-be53-4e3e-ad62-966cc757c946"
   },
   "outputs": [
    {
     "data": {
      "image/png": "[encoded data removed]",
      "text/plain": [
       "<Figure size 432x288 with 1 Axes>"
      ]
     },
     "metadata": {
      "needs_background": "light"
     },
     "output_type": "display_data"
    },
    {
     "name": "stdout",
     "output_type": "stream",
     "text": [
      "The slope of the linear fit is:  -0.21303107322226497\n",
      "slope is  -0.2130310732222649\n"
     ]
    },
    {
     "data": {
      "image/png": "[encoded data removed]",
      "text/plain": [
       "<Figure size 432x288 with 1 Axes>"
      ]
     },
     "metadata": {
      "needs_background": "light"
     },
     "output_type": "display_data"
    },
    {
     "data": {
      "image/png": "[encoded data removed]",
      "text/plain": [
       "<Figure size 432x288 with 1 Axes>"
      ]
     },
     "metadata": {
      "needs_background": "light"
     },
     "output_type": "display_data"
    }
   ],
   "source": [
    "# Plot the degree distribution\n",
    "counts, bins, patches = plt.hist(degree, bins=50, log=True, alpha=0.5, edgecolor='black')\n",
    "plt.xlabel('Degree')\n",
    "plt.ylabel('Counts')\n",
    "plt.title('Degree distribution')\n",
    "plt.show()\n",
    "\n",
    "# Plot the degree distribution\n",
    "counts, bins, patches = plt.hist(degree, bins=100, log=False, alpha=0.5, edgecolor='black')\n",
    "plt.xlabel('Degree')\n",
    "plt.ylabel('Counts')\n",
    "plt.title('Degree distribution')\n",
    "\n",
    "# Fit a linear model to the log-transformed data\n",
    "x = bins[:-1] + np.diff(bins) / 2\n",
    "y = counts\n",
    "slope, intercept, rvalue, pvalue, stderr = linregress(x, y)\n",
    "print(\"The slope of the linear fit is: \", slope)\n",
    "\n",
    "# Plot the linear fit\n",
    "xfit = np.linspace(min(x), max(x), 1000)\n",
    "yfit = slope * xfit + intercept\n",
    "plt.plot(xfit, yfit, 'r-', lw=2)\n",
    "\n",
    "# recheck slope\n",
    "slope = (yfit[100] - yfit[0])/(xfit[100]-xfit[0])\n",
    "print('slope is ',slope)\n",
    "\n",
    "plt.show()\n",
    "\n",
    "# Plot the degree distribution\n",
    "counts, bins, patches = plt.hist(degree, bins=100, log=True, alpha=0.5, edgecolor='black')\n",
    "plt.xlabel('Degree')\n",
    "plt.ylabel('Counts')\n",
    "plt.title('Degree distribution')\n",
    "\n",
    "plt.plot(xfit, yfit, 'r-', lw=2)\n",
    "\n",
    "plt.show()"
   ]
  },
  {
   "cell_type": "markdown",
   "metadata": {
    "id": "Gw08F68cxrdy"
   },
   "source": [
    "-----------------PART 2--------------------------------\n",
    "\n",
    "PART 2 QUESTION (5)"
   ]
  },
  {
   "cell_type": "code",
   "execution_count": 9,
   "metadata": {
    "colab": {
     "base_uri": "https://localhost:8080/"
    },
    "id": "HJT9pA4UxzU_",
    "outputId": "40656ff4-e3c9-4048-fd53-3b5cf503c3d5"
   },
   "outputs": [
    {
     "name": "stdout",
     "output_type": "stream",
     "text": [
      "IGRAPH UN-- 348 2866 -- \n",
      "+ attr: name (v)\n"
     ]
    }
   ],
   "source": [
    "node_id = 0\n",
    "node_neighbors = g.neighbors(node_id)\n",
    "node_neighbors.append(node_id)\n",
    "personalized_network = g.induced_subgraph(node_neighbors)\n",
    "\n",
    "print(personalized_network.summary())"
   ]
  },
  {
   "cell_type": "markdown",
   "metadata": {
    "id": "WJW140zszaMC"
   },
   "source": [
    "There are 348 Nodes, and 2866 Edges."
   ]
  },
  {
   "cell_type": "markdown",
   "metadata": {
    "id": "uTeFcdaqzsMQ"
   },
   "source": [
    "PART 2 QUESTION (6)"
   ]
  },
  {
   "cell_type": "code",
   "execution_count": 10,
   "metadata": {
    "colab": {
     "base_uri": "https://localhost:8080/"
    },
    "id": "MCzyYBFqzvFv",
    "outputId": "59f00c40-4e88-4ef0-ea29-68729af33bd5"
   },
   "outputs": [
    {
     "name": "stdout",
     "output_type": "stream",
     "text": [
      "2\n"
     ]
    }
   ],
   "source": [
    "diameter = personalized_network.diameter()\n",
    "print(diameter)"
   ]
  },
  {
   "cell_type": "markdown",
   "metadata": {
    "id": "xaiDV_IE0KAB"
   },
   "source": [
    "The upper bound of the diameter is 2, since the network is defined as a node and it's immediate neighbors, then any 2 nodes will be connected by at most 2 edges through node 0.\n",
    "\n",
    "For the lower bound, if node 0 is connected to all of its neighbors and all of its neighbors are connected to each other, then the lower bound of the diameter is 1."
   ]
  },
  {
   "cell_type": "markdown",
   "metadata": {
    "id": "WoRtOeV71N7K"
   },
   "source": [
    "PART 2 QUESTION (7)\n",
    "\n",
    "For the upper bound, this would mean that their exists 2 nodes that are not connected to each other but are connected through node 0. So the shortest path between the nodes is 2 edges, making the diameter 2.\n",
    "\n",
    "For the lower bound, it means that node 0 is directly connected to all of its neighbors, and all of its neighbors are directly connected to each other. The network would be a complete graph, and there is a direct path of length 1 between any two nodes in the personalized network."
   ]
  },
  {
   "cell_type": "markdown",
   "metadata": {
    "id": "gSeOxwnXxF8a"
   },
   "source": [
    "Part 2 Question (8)"
   ]
  },
  {
   "cell_type": "code",
   "execution_count": 11,
   "metadata": {
    "id": "IwBzbyXhx-hv"
   },
   "outputs": [],
   "source": [
    "degrees = g.degree()\n",
    "\n",
    "# count the number of nodes with degree greater than 200\n",
    "count = 0\n",
    "total_deg = 0\n",
    "for degree in degrees:\n",
    "    if degree > 200:\n",
    "        count += 1\n",
    "        total_deg+= degree\n",
    "total_deg /= count"
   ]
  },
  {
   "cell_type": "code",
   "execution_count": 12,
   "metadata": {
    "colab": {
     "base_uri": "https://localhost:8080/"
    },
    "id": "Ynkd_N7KzcsC",
    "outputId": "1d7d07a1-46b3-4318-e2bf-fde2b03410db"
   },
   "outputs": [
    {
     "data": {
      "text/plain": [
       "40"
      ]
     },
     "execution_count": 12,
     "metadata": {},
     "output_type": "execute_result"
    }
   ],
   "source": [
    "count"
   ]
  },
  {
   "cell_type": "code",
   "execution_count": 13,
   "metadata": {
    "id": "AMpg8wIOzeHS"
   },
   "outputs": [
    {
     "data": {
      "text/plain": [
       "279.375"
      ]
     },
     "execution_count": 13,
     "metadata": {},
     "output_type": "execute_result"
    }
   ],
   "source": [
    "total_deg"
   ]
  },
  {
   "cell_type": "markdown",
   "metadata": {
    "id": "GlWLeokqzhTS"
   },
   "source": [
    "Part 2 Question 9\n"
   ]
  },
  {
   "cell_type": "code",
   "execution_count": 14,
   "metadata": {
    "colab": {
     "base_uri": "https://localhost:8080/"
    },
    "id": "qJHQjx-f0Obv",
    "outputId": "98ba020b-e13d-45bd-8f1c-e7372c41b82b"
   },
   "outputs": [
    {
     "name": "stderr",
     "output_type": "stream",
     "text": [
      "'apt' is not recognized as an internal or external command,\n",
      "operable program or batch file.\n"
     ]
    },
    {
     "name": "stdout",
     "output_type": "stream",
     "text": [
      "Looking in indexes: https://pypi.org/simple, https://pypi.ngc.nvidia.com\n",
      "Requirement already satisfied: pycairo in c:\\users\\lawre\\anaconda3\\lib\\site-packages (1.23.0)\n"
     ]
    }
   ],
   "source": [
    "!apt install libcairo2-dev\n",
    "!pip install pycairo"
   ]
  },
  {
   "cell_type": "code",
   "execution_count": 15,
   "metadata": {
    "id": "0et4m5rf0rBM"
   },
   "outputs": [],
   "source": [
    "import matplotlib.pyplot as plt"
   ]
  },
  {
   "cell_type": "code",
   "execution_count": 16,
   "metadata": {
    "id": "yLxND_Xz1F_J"
   },
   "outputs": [
    {
     "name": "stderr",
     "output_type": "stream",
     "text": [
      "'apt-get' is not recognized as an internal or external command,\n",
      "operable program or batch file.\n"
     ]
    },
    {
     "name": "stdout",
     "output_type": "stream",
     "text": [
      "Looking in indexes: https://pypi.org/simple, https://pypi.ngc.nvidia.com\n",
      "Requirement already satisfied: pycairo in c:\\users\\lawre\\anaconda3\\lib\\site-packages (1.23.0)\n"
     ]
    }
   ],
   "source": [
    "!apt-get install libcairo2-dev libjpeg-dev libgif-dev\n",
    "!pip install pycairo"
   ]
  },
  {
   "cell_type": "code",
   "execution_count": 14,
   "metadata": {
    "id": "SZNLx_1Bvsi2"
   },
   "outputs": [
    {
     "name": "stdout",
     "output_type": "stream",
     "text": [
      "0.9.6\n"
     ]
    }
   ],
   "source": [
    "print(igraph.__version__)"
   ]
  },
  {
   "cell_type": "code",
   "execution_count": 18,
   "metadata": {},
   "outputs": [],
   "source": [
    "#!pip install python-igraph==0.9.6"
   ]
  },
  {
   "cell_type": "code",
   "execution_count": 19,
   "metadata": {},
   "outputs": [],
   "source": [
    "import igraph"
   ]
  },
  {
   "cell_type": "code",
   "execution_count": 20,
   "metadata": {
    "id": "rc_at-2WduuF"
   },
   "outputs": [],
   "source": [
    "import tqdm"
   ]
  },
  {
   "cell_type": "code",
   "execution_count": 22,
   "metadata": {
    "colab": {
     "base_uri": "https://localhost:8080/"
    },
    "id": "46cW15R9zfAe",
    "outputId": "9b8e5427-5734-48a7-ca01-6ea757c3390b"
   },
   "outputs": [
    {
     "name": "stdout",
     "output_type": "stream",
     "text": [
      "0\n",
      "True\n",
      "IGRAPH UN-- 348 2866 -- \n",
      "+ attr: name (v)\n",
      "IGRAPH UN-- 4039 88234 -- \n",
      "+ attr: name (v)\n",
      "Core node 0:\n",
      "Fast-Greedy modularity score: 0.413\n",
      "Edge-Betweenness modularity score: 0.353\n",
      "Infomap modularity score: 0.389\n",
      "107\n",
      "True\n",
      "IGRAPH UN-- 1046 27795 -- \n",
      "+ attr: name (v)\n",
      "IGRAPH UN-- 4039 88234 -- \n",
      "+ attr: name (v)\n",
      "Core node 107:\n",
      "Fast-Greedy modularity score: 0.436\n",
      "Edge-Betweenness modularity score: 0.507\n",
      "Infomap modularity score: 0.508\n",
      "348\n",
      "True\n",
      "IGRAPH UN-- 230 3441 -- \n",
      "+ attr: name (v)\n",
      "IGRAPH UN-- 4039 88234 -- \n",
      "+ attr: name (v)\n",
      "Core node 348:\n",
      "Fast-Greedy modularity score: 0.252\n",
      "Edge-Betweenness modularity score: 0.134\n",
      "Infomap modularity score: 0.204\n",
      "483\n",
      "True\n",
      "IGRAPH UN-- 232 4525 -- \n",
      "+ attr: name (v)\n",
      "IGRAPH UN-- 4039 88234 -- \n",
      "+ attr: name (v)\n",
      "Core node 483:\n",
      "Fast-Greedy modularity score: 0.507\n",
      "Edge-Betweenness modularity score: 0.489\n",
      "Infomap modularity score: 0.516\n",
      "1086\n",
      "True\n",
      "IGRAPH UN-- 206 7409 -- \n",
      "+ attr: name (v)\n",
      "IGRAPH UN-- 4039 88234 -- \n",
      "+ attr: name (v)\n",
      "Core node 1086:\n",
      "Fast-Greedy modularity score: 0.146\n",
      "Edge-Betweenness modularity score: 0.028\n",
      "Infomap modularity score: 0.027\n"
     ]
    },
    {
     "data": {
      "image/png": "[encoded data removed]",
      "text/plain": [
       "<Figure size 432x288 with 1 Axes>"
      ]
     },
     "metadata": {
      "needs_background": "light"
     },
     "output_type": "display_data"
    },
    {
     "data": {
      "image/png": "[encoded data removed]",
      "text/plain": [
       "<Figure size 432x288 with 1 Axes>"
      ]
     },
     "metadata": {
      "needs_background": "light"
     },
     "output_type": "display_data"
    },
    {
     "data": {
      "image/png": "[encoded data removed]",
      "text/plain": [
       "<Figure size 432x288 with 1 Axes>"
      ]
     },
     "metadata": {
      "needs_background": "light"
     },
     "output_type": "display_data"
    },
    {
     "data": {
      "image/png": "[encoded data removed]",
      "text/plain": [
       "<Figure size 432x288 with 1 Axes>"
      ]
     },
     "metadata": {
      "needs_background": "light"
     },
     "output_type": "display_data"
    },
    {
     "data": {
      "image/png": "[encoded data removed]",
      "text/plain": [
       "<Figure size 432x288 with 1 Axes>"
      ]
     },
     "metadata": {
      "needs_background": "light"
     },
     "output_type": "display_data"
    }
   ],
   "source": [
    "#core_nodes = [1, 108, 349, 484, 1087]\n",
    "core_nodes = [0, 107,348,483,1086]\n",
    "\n",
    "for node in core_nodes:\n",
    "    print(node)\n",
    "    personal_net = g.subgraph(g.neighborhood(node, order=1))\n",
    "    print(personal_net.is_connected())\n",
    "    print(personal_net.summary())\n",
    "    print(g.summary())\n",
    "    fg_clusters = personal_net.community_fastgreedy().as_clustering()\n",
    "    fg_modularity = fg_clusters.modularity\n",
    "\n",
    "    eb_clusters = personal_net.community_edge_betweenness().as_clustering()\n",
    "    eb_modularity = eb_clusters.modularity\n",
    "    \n",
    "    im_clusters = personal_net.community_infomap()\n",
    "    im_modularity = im_clusters.modularity\n",
    "    \n",
    "    layout = personal_net.layout(\"fr\")\n",
    "\n",
    "    fig, ax = plt.subplots()\n",
    "    #need help plotting.\n",
    "    igraph.plot(fg_clusters, mark_groups=True)\n",
    "    igraph.plot(eb_clusters, mark_groups=True)\n",
    "    igraph.plot(im_clusters, mark_groups=True)\n",
    "    #igraph.plot(fg_clusters, target=f\"core_node_{node}_fg.png\", vertex_color=[fg_clusters.membership], layout=layout)\n",
    "    #igraph.plot(eb_clusters, target=f\"core_node_{node}_eb.png\", vertex_color=[eb_clusters.membership], layout=layout)\n",
    "    #igraph.plot(im_clusters, target=f\"core_node_{node}_im.png\", vertex_color=[im_clusters.membership], layout=layout)\n",
    "    \n",
    "    # print the modularity scores\n",
    "    print(f\"Core node {node}:\")\n",
    "    print(f\"Fast-Greedy modularity score: {fg_modularity:.3f}\")\n",
    "    print(f\"Edge-Betweenness modularity score: {eb_modularity:.3f}\")\n",
    "    print(f\"Infomap modularity score: {im_modularity:.3f}\")"
   ]
  },
  {
   "cell_type": "code",
   "execution_count": null,
   "metadata": {
    "id": "3dzwHXODXwj6"
   },
   "outputs": [],
   "source": []
  },
  {
   "cell_type": "markdown",
   "metadata": {
    "id": "4HwfWyx01iSc"
   },
   "source": [
    "Part 2 Question 10"
   ]
  },
  {
   "cell_type": "code",
   "execution_count": null,
   "metadata": {
    "id": "cUKF8iv7Zs8s"
   },
   "outputs": [],
   "source": [
    "core_nodes = [0, 107,348,483,1086]\n",
    "\n",
    "for node in core_nodes:\n",
    "    #temp_g = g.delete_vertices(node)\n",
    "    #personal_net = g.neighborhood(node, order=1)\n",
    "    personal_net = g.induced_subgraph(g.neighborhood(node, order=1))\n",
    "\n",
    "    #personal_net.delete_vertices(node)\n",
    "\n",
    "    fg_clusters = personal_net.community_fastgreedy().as_clustering()\n",
    "    fg_modularity = fg_clusters.modularity\n",
    "\n",
    "    eb_clusters = personal_net.community_edge_betweenness().as_clustering()\n",
    "    eb_modularity = eb_clusters.modularity\n",
    "    \n",
    "    im_clusters = personal_net.community_infomap()\n",
    "    im_modularity = im_clusters.modularity\n",
    "    \n",
    "    layout = personal_net.layout(\"fr\")\n",
    "\n",
    "    fig, ax = plt.subplots()\n",
    "    igraph.plot(fg_clusters, mark_groups=True)\n",
    "    igraph.plot(eb_clusters, mark_groups=True)\n",
    "    igraph.plot(im_clusters, mark_groups=True)\n",
    "    #igraph.plot(fg_clusters, target=f\"core_node_{node}_fg.png\", vertex_color=[fg_clusters.membership], layout=layout)\n",
    "    #igraph.plot(eb_clusters, target=f\"core_node_{node}_eb.png\", vertex_color=[eb_clusters.membership], layout=layout)\n",
    "    #igraph.plot(im_clusters, target=f\"core_node_{node}_im.png\", vertex_color=[im_clusters.membership], layout=layout)\n",
    "    \n",
    "    # print the modularity scores\n",
    "    print(f\"Core node {node}:\")\n",
    "    print(f\"Fast-Greedy modularity score: {fg_modularity:.3f}\")\n",
    "    print(f\"Edge-Betweenness modularity score: {eb_modularity:.3f}\")\n",
    "    print(f\"Infomap modularity score: {im_modularity:.3f}\")"
   ]
  },
  {
   "cell_type": "code",
   "execution_count": null,
   "metadata": {},
   "outputs": [],
   "source": []
  },
  {
   "cell_type": "code",
   "execution_count": 32,
   "metadata": {
    "id": "NUU3iEhI52kp"
   },
   "outputs": [
    {
     "name": "stdout",
     "output_type": "stream",
     "text": [
      "Core node 0:\n",
      "Fast-Greedy modularity score: 0.264\n",
      "Edge-Betweenness modularity score: 0.193\n",
      "Infomap modularity score: 0.000\n",
      "Deleting node 0 from personal network\n",
      "Core node 107:\n",
      "Fast-Greedy modularity score: 0.031\n",
      "Edge-Betweenness modularity score: 0.000\n",
      "Infomap modularity score: 0.000\n",
      "Deleting node 107 from personal network\n"
     ]
    },
    {
     "ename": "InternalError",
     "evalue": "Error at src/graph/iterators.c:751: Cannot create iterator, invalid vertex id. -- Invalid vertex id",
     "output_type": "error",
     "traceback": [
      "\u001b[1;31m---------------------------------------------------------------------------\u001b[0m",
      "\u001b[1;31mInternalError\u001b[0m                             Traceback (most recent call last)",
      "Input \u001b[1;32mIn [32]\u001b[0m, in \u001b[0;36m<cell line: 31>\u001b[1;34m()\u001b[0m\n\u001b[0;32m     38\u001b[0m \u001b[38;5;66;03m# remove the core node and calculate modularity of modified network\u001b[39;00m\n\u001b[0;32m     39\u001b[0m \u001b[38;5;28mprint\u001b[39m(\u001b[38;5;124mf\u001b[39m\u001b[38;5;124m\"\u001b[39m\u001b[38;5;124mDeleting node \u001b[39m\u001b[38;5;132;01m{\u001b[39;00mnode\u001b[38;5;132;01m}\u001b[39;00m\u001b[38;5;124m from personal network\u001b[39m\u001b[38;5;124m\"\u001b[39m)\n\u001b[1;32m---> 40\u001b[0m \u001b[43mpersonal_net\u001b[49m\u001b[38;5;241;43m.\u001b[39;49m\u001b[43mdelete_vertices\u001b[49m\u001b[43m(\u001b[49m\u001b[43mnode\u001b[49m\u001b[43m)\u001b[49m\n",
      "\u001b[1;31mInternalError\u001b[0m: Error at src/graph/iterators.c:751: Cannot create iterator, invalid vertex id. -- Invalid vertex id"
     ]
    },
    {
     "data": {
      "image/png": "[encoded data removed]",
      "text/plain": [
       "<Figure size 432x288 with 1 Axes>"
      ]
     },
     "metadata": {
      "needs_background": "light"
     },
     "output_type": "display_data"
    },
    {
     "data": {
      "image/png": "[encoded data removed]",
      "text/plain": [
       "<Figure size 432x288 with 1 Axes>"
      ]
     },
     "metadata": {
      "needs_background": "light"
     },
     "output_type": "display_data"
    }
   ],
   "source": [
    "import igraph as ig\n",
    "import matplotlib.pyplot as plt\n",
    "\n",
    "core_nodes = [0, 107,348,483,1086]\n",
    "\n",
    "# function to calculate modularity and plot the graph\n",
    "def calculate_modularity(node, personal_net):\n",
    "    fg_clusters = personal_net.community_fastgreedy().as_clustering()\n",
    "    fg_modularity = fg_clusters.modularity\n",
    "\n",
    "    eb_clusters = personal_net.community_edge_betweenness().as_clustering()\n",
    "    eb_modularity = eb_clusters.modularity\n",
    "    \n",
    "    im_clusters = personal_net.community_infomap()\n",
    "    im_modularity = im_clusters.q\n",
    "\n",
    "    layout = personal_net.layout(\"fr\")\n",
    "\n",
    "    fig, ax = plt.subplots()\n",
    "    ig.plot(fg_clusters, vertex_color=fg_clusters.membership, layout=layout)\n",
    "    ig.plot(eb_clusters,  vertex_color=eb_clusters.membership, layout=layout)\n",
    "    ig.plot(im_clusters, vertex_color=im_clusters.membership, layout=layout)\n",
    "    \n",
    "    # print the modularity scores\n",
    "    print(f\"Core node {node}:\")\n",
    "    print(f\"Fast-Greedy modularity score: {fg_modularity:.3f}\")\n",
    "    print(f\"Edge-Betweenness modularity score: {eb_modularity:.3f}\")\n",
    "    print(f\"Infomap modularity score: {im_modularity:.3f}\")\n",
    "\n",
    "# loop through each core node and calculate the modularity of their personalized network\n",
    "for node in core_nodes:\n",
    "    # create the personalized network\n",
    "    personal_net = g.subgraph(g.neighborhood(node, order=1))\n",
    "    \n",
    "    # calculate modularity of original network\n",
    "    calculate_modularity(node, personal_net)\n",
    "    \n",
    "    # remove the core node and calculate modularity of modified network\n",
    "    print(f\"Deleting node {node} from personal network\")\n",
    "    personal_net.delete_vertices(node)\n"
   ]
  },
  {
   "cell_type": "markdown",
   "metadata": {
    "id": "rmwtVMlOoLML"
   },
   "source": [
    "Question 11\n",
    "\n",
    "The embeddedness between the core node and the target node is equal to the degree of the target node plus one."
   ]
  },
  {
   "cell_type": "code",
   "execution_count": 27,
   "metadata": {
    "id": "XLqjh_24wdop"
   },
   "outputs": [
    {
     "ename": "InternalError",
     "evalue": "Error at src/graph/iterators.c:762: Cannot create iterator, invalid vertex id. -- Invalid vertex id",
     "output_type": "error",
     "traceback": [
      "\u001b[1;31m---------------------------------------------------------------------------\u001b[0m",
      "\u001b[1;31mInternalError\u001b[0m                             Traceback (most recent call last)",
      "Input \u001b[1;32mIn [27]\u001b[0m, in \u001b[0;36m<cell line: 7>\u001b[1;34m()\u001b[0m\n\u001b[0;32m     29\u001b[0m modified_net\u001b[38;5;241m.\u001b[39mdelete_vertices([node_id, neighbor_id])\n\u001b[0;32m     30\u001b[0m \u001b[38;5;28;01mif\u001b[39;00m \u001b[38;5;28mlen\u001b[39m(current_node_neighbors) \u001b[38;5;241m>\u001b[39m \u001b[38;5;241m1\u001b[39m:\n\u001b[1;32m---> 31\u001b[0m     dispersion \u001b[38;5;241m=\u001b[39m np\u001b[38;5;241m.\u001b[39msum(\u001b[43mmodified_net\u001b[49m\u001b[38;5;241;43m.\u001b[39;49m\u001b[43mshortest_paths\u001b[49m\u001b[43m(\u001b[49m\u001b[43mcurrent_node_neighbors\u001b[49m\u001b[43m)\u001b[49m) \u001b[38;5;241m/\u001b[39m (\u001b[38;5;28mlen\u001b[39m(current_node_neighbors) \u001b[38;5;241m*\u001b[39m (\u001b[38;5;28mlen\u001b[39m(current_node_neighbors) \u001b[38;5;241m-\u001b[39m \u001b[38;5;241m1\u001b[39m))\n\u001b[0;32m     32\u001b[0m \u001b[38;5;28;01melse\u001b[39;00m:\n\u001b[0;32m     33\u001b[0m     dispersion \u001b[38;5;241m=\u001b[39m \u001b[38;5;241m0\u001b[39m\n",
      "\u001b[1;31mInternalError\u001b[0m: Error at src/graph/iterators.c:762: Cannot create iterator, invalid vertex id. -- Invalid vertex id"
     ]
    }
   ],
   "source": [
    "import igraph\n",
    "import numpy as np\n",
    "import matplotlib.pyplot as plt\n",
    "\n",
    "core_nodes = [0, 107,348,483,1086]\n",
    "\n",
    "for node_id in core_nodes:\n",
    "    personal_net = g.subgraph(g.neighborhood(node_id, order=1))\n",
    "    neighbors = personal_net.neighbors(node_id)\n",
    "    embeddedness_values = []\n",
    "    dispersion_values = []\n",
    "    for neighbor_id in neighbors:\n",
    "        current_node_neighbors = personal_net.neighbors(neighbor_id)\n",
    "\n",
    "        neighbor_indices = [i for i, v in enumerate(neighbors) if v in current_node_neighbors]\n",
    "        embeddedness = len(neighbor_indices)-1\n",
    "        modified_net = personal_net.copy()\n",
    "        modified_net.delete_vertices([node_id, neighbor_id])\n",
    "        if len(current_node_neighbors) > 1:\n",
    "            dispersion = np.sum(modified_net.shortest_paths(current_node_neighbors)) / (len(current_node_neighbors) * (len(current_node_neighbors) - 1))\n",
    "        else:\n",
    "            dispersion = 0\n",
    "        embeddedness_values.append(embeddedness)\n",
    "        dispersion_values.append(dispersion)\n",
    "    fig, axs = plt.subplots(1, 2, figsize=(10, 5))\n",
    "    axs[0].hist(embeddedness_values, bins=np.arange(min(embeddedness_values), max(embeddedness_values) + 1, 1))\n",
    "    axs[0].set_title(f\"Embeddedness Distribution for Core Node {node_id}\")\n",
    "    axs[0].set_xlabel(\"Embeddedness\")\n",
    "    axs[0].set_ylabel(\"Count\")\n",
    "    axs[1].hist(dispersion_values, bins=np.arange(min(dispersion_values), max(dispersion_values) + 1, 1))\n",
    "    axs[1].set_title(f\"Dispersion Distribution for Core Node {node_id}\")\n",
    "    axs[1].set_xlabel(\"Dispersion\")\n",
    "    axs[1].set_ylabel(\"Count\")\n",
    "    plt.tight_layout()\n",
    "    plt.show()\n"
   ]
  },
  {
   "cell_type": "code",
   "execution_count": null,
   "metadata": {
    "id": "86zXGINx5GlE"
   },
   "outputs": [],
   "source": []
  }
 ],
 "metadata": {
  "colab": {
   "provenance": []
  },
  "kernelspec": {
   "display_name": "Python 3 (ipykernel)",
   "language": "python",
   "name": "python3"
  },
  "language_info": {
   "codemirror_mode": {
    "name": "ipython",
    "version": 3
   },
   "file_extension": ".py",
   "mimetype": "text/x-python",
   "name": "python",
   "nbconvert_exporter": "python",
   "pygments_lexer": "ipython3",
   "version": "3.8.8"
  }
 },
 "nbformat": 4,
 "nbformat_minor": 1
}
