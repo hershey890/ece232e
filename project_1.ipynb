{
 "cells": [
  {
   "cell_type": "code",
   "execution_count": 2,
   "metadata": {},
   "outputs": [],
   "source": [
    "import igraph as ig\n",
    "import numpy as np\n",
    "import random\n",
    "import matplotlib.pyplot as plt\n",
    "from typing import Tuple\n",
    "import pandas as pd\n",
    "\n",
    "random.seed(0)"
   ]
  },
  {
   "attachments": {},
   "cell_type": "markdown",
   "metadata": {},
   "source": [
    "# Part 1"
   ]
  },
  {
   "attachments": {},
   "cell_type": "markdown",
   "metadata": {},
   "source": [
    "## 1a\n",
    "\n",
    "A binomial distribution is observed. This is because there are $n-1 \\choose d$ ways to choose $d$ vertices among $n-1$ nodes (we exclude self-connections). Each node has $p^d$ probability of connecting to $d$ vertices. Since these must be no edges to the remaining $n-1-d$ nodes which occur with probability $(1-p)^{n-1-d}$ we get the probability that 2 nodes are connected as $Prob[d] = {n-1\\choose d} p^d (1-p)^{n-1-d}$. Since $n$ is sufficiently large $n-1\\approx n$"
   ]
  },
  {
   "cell_type": "code",
   "execution_count": 3,
   "metadata": {},
   "outputs": [
    {
     "name": "stdout",
     "output_type": "stream",
     "text": [
      "   Theoretical Mean  Calc Mean  Theoretical Variance  Calc Variance\n",
      "0             1.798   1.773333              1.794404       1.730844\n",
      "1             5.394   5.382222              5.361636       5.425017\n",
      "2            10.788  10.706667             10.658544      10.965067\n",
      "3            40.455  40.591111             38.634525      38.128365\n",
      "4            89.900  90.017778             80.910000      84.841906\n"
     ]
    },
    {
     "data": {
      "image/png": "[encoded data removed]",
      "text/plain": [
       "<Figure size 640x480 with 6 Axes>"
      ]
     },
     "metadata": {},
     "output_type": "display_data"
    }
   ],
   "source": [
    "# 1a\n",
    "# create an undirected random network\n",
    "n_nodes = 900\n",
    "probabilities = [0.002, 0.006, 0.012, 0.045, 0.1] # prob that edge exists b/w 2 vertices\n",
    "\n",
    "fig, axs = plt.subplots(3, 2)\n",
    "fig.suptitle('Degree Distributions')\n",
    "theor_means = []\n",
    "theor_vars = []\n",
    "calc_means = []\n",
    "calc_vars = []\n",
    "graphs = []\n",
    "\n",
    "for p, ax in zip(probabilities, axs.reshape(-1)):\n",
    "    graph = ig.Graph.Erdos_Renyi(n=n_nodes, p=p, directed=False, loops=False)\n",
    "    graphs.append(graph)\n",
    "    degrees = [v.degree() for v in graph.vs]\n",
    "\n",
    "    # Theoretical mean and variance of degree distribution\n",
    "    # we use (n-1) since a node can't connect to itself\n",
    "    # Erdos-Renyi Graph follows a binomial distribution. These are binomial mean/var from wikipedia\n",
    "    # https://chih-ling-hsu.github.io/2020/05/15/Gnp\n",
    "    # https://www.cs.cmu.edu/~avrim/598/chap4only.pdf\n",
    "    theor_means.append((n_nodes-1)*p)\n",
    "    theor_vars.append((n_nodes-1)*p*(1-p))\n",
    "    calc_means.append(np.mean(degrees))\n",
    "    calc_vars.append(np.var(degrees))\n",
    "\n",
    "    ax.hist(degrees, bins='auto')\n",
    "    ax.title.set_text(f'p={p}')\n",
    "\n",
    "print(pd.DataFrame({\n",
    "    \"Theoretical Mean\": theor_means, \n",
    "    \"Calc Mean\": calc_means, \n",
    "    \"Theoretical Variance\": theor_vars, \n",
    "    \"Calc Variance\": calc_vars\n",
    "}))"
   ]
  },
  {
   "attachments": {},
   "cell_type": "markdown",
   "metadata": {},
   "source": [
    "## 1b"
   ]
  },
  {
   "cell_type": "code",
   "execution_count": 5,
   "metadata": {},
   "outputs": [
    {
     "name": "stdout",
     "output_type": "stream",
     "text": [
      "p=0.002, connected=False, prob_connected=0.0, diameter=24\n",
      "p=0.006, connected=False, prob_connected=0.015, diameter=9\n",
      "p=0.012, connected=True, prob_connected=0.981\n",
      "p=0.045, connected=True, prob_connected=1.0\n",
      "p=0.1, connected=True, prob_connected=1.0\n"
     ]
    }
   ],
   "source": [
    "n_iter = 1000\n",
    "\n",
    "for p, g in zip(probabilities, graphs):\n",
    "    out_str = f'p={p}, connected={g.is_connected()}'\n",
    "\n",
    "    # Numerically estimate the probability that a generated network is connected\n",
    "    connected = 0\n",
    "    for i in range(n_iter):\n",
    "        graph = ig.Graph.Erdos_Renyi(n=n_nodes, p=p, directed=False, loops=False)\n",
    "        connected += graph.is_connected()\n",
    "    prob_connected = connected/n_iter\n",
    "    out_str += f', prob_connected={prob_connected}'\n",
    "\n",
    "    if not g.is_connected():\n",
    "        g = g.connected_components().giant()\n",
    "        out_str += f', diameter={g.diameter()}'\n",
    "    print(out_str)"
   ]
  },
  {
   "attachments": {},
   "cell_type": "markdown",
   "metadata": {},
   "source": [
    "1c. when we plot the x axis will be probability and y axis will be size of GCC, it will be a log-asymptotic function that flattens out.\n",
    "\n",
    "we want to pay attention to 1/n and log(n)/n points on x-axis. \n",
    "\n",
    "1c. i and ii are asking for the 1/n and log(n)/n parts\n",
    "\n",
    "1d. \n",
    "\n",
    "----------------\n",
    "\n",
    "\n",
    "2a. the probability of attaching to a node is based on the number of edges it has. a hexagon with a point in the middle has a probability of 6/12 of connected to the center node p = degree(v)/(2nm) so probably degree(v)/|E|. Follows the \n",
    "\n",
    "All nodes in a preferential attachment model are connected\n",
    "\n",
    "2b. Can find densly connected clusters called a community. Modularity is how easy you can find a community. If we can easily cluster a group it has a high modularity. Assortativity will be given in lecture, but it is something to do with a vertex. \n",
    "\n",
    "2c. \n",
    "2d. \n",
    "2e. generate model multiple times in order to get the degree distribution. can also do by hand\n",
    "2f. \n",
    "2g. repeat previous part but with different values of n\n",
    "2h. \n",
    "\n",
    "------------------\n",
    "\n",
    "3a. also need to consider age of old nodes (ie order in which node is generated). $P(m) = P[i] ~ (ck^a_i+a)(dl^\\beta_i+b)$\n",
    "3b. \n",
    "\n",
    "\n",
    "Ask question about how early ot work in project ditching class and watching lectures\n"
   ]
  },
  {
   "attachments": {},
   "cell_type": "markdown",
   "metadata": {},
   "source": [
    "# Part 2"
   ]
  }
 ],
 "metadata": {
  "kernelspec": {
   "display_name": "cvxpy",
   "language": "python",
   "name": "python3"
  },
  "language_info": {
   "codemirror_mode": {
    "name": "ipython",
    "version": 3
   },
   "file_extension": ".py",
   "mimetype": "text/x-python",
   "name": "python",
   "nbconvert_exporter": "python",
   "pygments_lexer": "ipython3",
   "version": "3.9.16"
  },
  "orig_nbformat": 4
 },
 "nbformat": 4,
 "nbformat_minor": 2
}
